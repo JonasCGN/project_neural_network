{
  "nbformat": 4,
  "nbformat_minor": 0,
  "metadata": {
    "colab": {
      "provenance": [],
      "gpuType": "T4",
      "collapsed_sections": [
        "VDlF1KdlTohv",
        "L4ipn5mfT-GN",
        "O8XYGThXT-Np",
        "F2aHMU6OT-Sn",
        "qYckLX96T-Wr",
        "0eezY6GLT-3W",
        "tJyXR0koKADs",
        "C_b6e8JOPNvA",
        "doHmOqYBKC4G"
      ],
      "authorship_tag": "ABX9TyOT9UnnHA7b+LyISrXuec/V",
      "include_colab_link": true
    },
    "kernelspec": {
      "name": "python3",
      "display_name": "Python 3"
    },
    "language_info": {
      "name": "python"
    },
    "accelerator": "GPU"
  },
  "cells": [
    {
      "cell_type": "markdown",
      "metadata": {
        "id": "view-in-github",
        "colab_type": "text"
      },
      "source": [
        "<a href=\"https://colab.research.google.com/github/JonasCGN/project_neural_network/blob/main/project_neural_network.ipynb\" target=\"_parent\"><img src=\"https://colab.research.google.com/assets/colab-badge.svg\" alt=\"Open In Colab\"/></a>"
      ]
    },
    {
      "cell_type": "code",
      "source": [
        "from google.colab import drive\n",
        "drive.mount('/content/drive')"
      ],
      "metadata": {
        "colab": {
          "base_uri": "https://localhost:8080/"
        },
        "id": "V5c2b-gsUQdU",
        "outputId": "8903e0c2-46eb-4fbf-f773-7c898cde8755"
      },
      "execution_count": null,
      "outputs": [
        {
          "output_type": "stream",
          "name": "stdout",
          "text": [
            "Mounted at /content/drive\n"
          ]
        }
      ]
    },
    {
      "cell_type": "markdown",
      "source": [
        "#Visão Computacional: O Guia Completo - Redes Neurais para cliassificação de imagens\n"
      ],
      "metadata": {
        "id": "f_pyjanJTRfZ"
      }
    },
    {
      "cell_type": "markdown",
      "source": [
        "##Abordagem 1: extração de todos os pixels da imagem"
      ],
      "metadata": {
        "id": "uDGY2er1Th2h"
      }
    },
    {
      "cell_type": "markdown",
      "source": [
        "###Importação das bibliotecas\n",
        "\n",
        "\n",
        "\n"
      ],
      "metadata": {
        "id": "VDlF1KdlTohv"
      }
    },
    {
      "cell_type": "code",
      "source": [
        "import cv2\n",
        "import numpy as np\n",
        "import os\n",
        "import zipfile\n",
        "from google.colab.patches import cv2_imshow\n",
        "import tensorflow as tf\n",
        "import pandas as pd\n",
        "import seaborn as sns\n",
        "import matplotlib.pyplot as plt"
      ],
      "metadata": {
        "id": "wOzo6H4YUN3h"
      },
      "execution_count": null,
      "outputs": []
    },
    {
      "cell_type": "code",
      "source": [
        "!pip install tensorflow == 2.6.0"
      ],
      "metadata": {
        "id": "VCQan-KsU0g5",
        "colab": {
          "base_uri": "https://localhost:8080/"
        },
        "outputId": "a90f1313-c00b-436c-c1bb-0b54a2670bca"
      },
      "execution_count": null,
      "outputs": [
        {
          "output_type": "stream",
          "name": "stdout",
          "text": [
            "\u001b[31mERROR: Invalid requirement: '==': Expected package name at the start of dependency specifier\n",
            "    ==\n",
            "    ^\u001b[0m\u001b[31m\n",
            "\u001b[0m"
          ]
        }
      ]
    },
    {
      "cell_type": "markdown",
      "source": [
        "###Extração dos pixels das imagens\n",
        "\n",
        "\n",
        "\n"
      ],
      "metadata": {
        "id": "L4ipn5mfT-GN"
      }
    },
    {
      "cell_type": "code",
      "source": [
        "path = '/content/drive/MyDrive/Visao_Computacional_Guia_Completo/Datasets/homer_bart_1.zip'\n",
        "zip_object = zipfile.ZipFile(file=path, mode = 'r')\n",
        "zip_object.extractall('./')\n",
        "zip_object.close()"
      ],
      "metadata": {
        "id": "25fHWg8iVUm9"
      },
      "execution_count": null,
      "outputs": []
    },
    {
      "cell_type": "code",
      "source": [
        "diretorio = '/content/homer_bart_1'\n",
        "arquivos = [os.path.join(diretorio,f) for f in sorted(os.listdir(diretorio))]\n",
        "print(arquivos)"
      ],
      "metadata": {
        "colab": {
          "base_uri": "https://localhost:8080/"
        },
        "id": "X7_s1YM2WHdQ",
        "outputId": "b77f46f3-f55c-4624-faae-25b7753e39a6"
      },
      "execution_count": null,
      "outputs": [
        {
          "output_type": "stream",
          "name": "stdout",
          "text": [
            "['/content/homer_bart_1/.DS_Store', '/content/homer_bart_1/bart1.bmp', '/content/homer_bart_1/bart10.bmp', '/content/homer_bart_1/bart100.bmp', '/content/homer_bart_1/bart101.bmp', '/content/homer_bart_1/bart102.bmp', '/content/homer_bart_1/bart103.bmp', '/content/homer_bart_1/bart104.bmp', '/content/homer_bart_1/bart105.bmp', '/content/homer_bart_1/bart106.bmp', '/content/homer_bart_1/bart108.bmp', '/content/homer_bart_1/bart109.bmp', '/content/homer_bart_1/bart11.bmp', '/content/homer_bart_1/bart110.bmp', '/content/homer_bart_1/bart111.bmp', '/content/homer_bart_1/bart112.bmp', '/content/homer_bart_1/bart113.bmp', '/content/homer_bart_1/bart114.bmp', '/content/homer_bart_1/bart115.bmp', '/content/homer_bart_1/bart116.bmp', '/content/homer_bart_1/bart117.bmp', '/content/homer_bart_1/bart118.bmp', '/content/homer_bart_1/bart119.bmp', '/content/homer_bart_1/bart12.bmp', '/content/homer_bart_1/bart120.bmp', '/content/homer_bart_1/bart121.bmp', '/content/homer_bart_1/bart122.bmp', '/content/homer_bart_1/bart123.bmp', '/content/homer_bart_1/bart124.bmp', '/content/homer_bart_1/bart125.bmp', '/content/homer_bart_1/bart126.bmp', '/content/homer_bart_1/bart127.bmp', '/content/homer_bart_1/bart128.bmp', '/content/homer_bart_1/bart13.bmp', '/content/homer_bart_1/bart130.bmp', '/content/homer_bart_1/bart131.bmp', '/content/homer_bart_1/bart132.bmp', '/content/homer_bart_1/bart133.bmp', '/content/homer_bart_1/bart134.bmp', '/content/homer_bart_1/bart135.bmp', '/content/homer_bart_1/bart136.bmp', '/content/homer_bart_1/bart137.bmp', '/content/homer_bart_1/bart138.bmp', '/content/homer_bart_1/bart139.bmp', '/content/homer_bart_1/bart14.bmp', '/content/homer_bart_1/bart141.bmp', '/content/homer_bart_1/bart142.bmp', '/content/homer_bart_1/bart143.bmp', '/content/homer_bart_1/bart144.bmp', '/content/homer_bart_1/bart145.bmp', '/content/homer_bart_1/bart146.bmp', '/content/homer_bart_1/bart147.bmp', '/content/homer_bart_1/bart148.bmp', '/content/homer_bart_1/bart149.bmp', '/content/homer_bart_1/bart15.bmp', '/content/homer_bart_1/bart150.bmp', '/content/homer_bart_1/bart151.bmp', '/content/homer_bart_1/bart153.bmp', '/content/homer_bart_1/bart154.bmp', '/content/homer_bart_1/bart155.bmp', '/content/homer_bart_1/bart156.bmp', '/content/homer_bart_1/bart157.bmp', '/content/homer_bart_1/bart158.bmp', '/content/homer_bart_1/bart159.bmp', '/content/homer_bart_1/bart16.bmp', '/content/homer_bart_1/bart160.bmp', '/content/homer_bart_1/bart161.bmp', '/content/homer_bart_1/bart162.bmp', '/content/homer_bart_1/bart164.bmp', '/content/homer_bart_1/bart165.bmp', '/content/homer_bart_1/bart166.bmp', '/content/homer_bart_1/bart167.bmp', '/content/homer_bart_1/bart168.bmp', '/content/homer_bart_1/bart169.bmp', '/content/homer_bart_1/bart17.bmp', '/content/homer_bart_1/bart18.bmp', '/content/homer_bart_1/bart19.bmp', '/content/homer_bart_1/bart2.bmp', '/content/homer_bart_1/bart20.bmp', '/content/homer_bart_1/bart21.bmp', '/content/homer_bart_1/bart22.bmp', '/content/homer_bart_1/bart23.bmp', '/content/homer_bart_1/bart24.bmp', '/content/homer_bart_1/bart25.bmp', '/content/homer_bart_1/bart26.bmp', '/content/homer_bart_1/bart27.bmp', '/content/homer_bart_1/bart28.bmp', '/content/homer_bart_1/bart29.bmp', '/content/homer_bart_1/bart3.bmp', '/content/homer_bart_1/bart30.bmp', '/content/homer_bart_1/bart31.bmp', '/content/homer_bart_1/bart32.bmp', '/content/homer_bart_1/bart34.bmp', '/content/homer_bart_1/bart35.bmp', '/content/homer_bart_1/bart36.bmp', '/content/homer_bart_1/bart37.bmp', '/content/homer_bart_1/bart38.bmp', '/content/homer_bart_1/bart39.bmp', '/content/homer_bart_1/bart4.bmp', '/content/homer_bart_1/bart40.bmp', '/content/homer_bart_1/bart42.bmp', '/content/homer_bart_1/bart43.bmp', '/content/homer_bart_1/bart44.bmp', '/content/homer_bart_1/bart45.bmp', '/content/homer_bart_1/bart46.bmp', '/content/homer_bart_1/bart47.bmp', '/content/homer_bart_1/bart48.bmp', '/content/homer_bart_1/bart49.bmp', '/content/homer_bart_1/bart5.bmp', '/content/homer_bart_1/bart50.bmp', '/content/homer_bart_1/bart51.bmp', '/content/homer_bart_1/bart52.bmp', '/content/homer_bart_1/bart53.bmp', '/content/homer_bart_1/bart54.bmp', '/content/homer_bart_1/bart55.bmp', '/content/homer_bart_1/bart56.bmp', '/content/homer_bart_1/bart57.bmp', '/content/homer_bart_1/bart58.bmp', '/content/homer_bart_1/bart59.bmp', '/content/homer_bart_1/bart6.bmp', '/content/homer_bart_1/bart60.bmp', '/content/homer_bart_1/bart61.bmp', '/content/homer_bart_1/bart62.bmp', '/content/homer_bart_1/bart63.bmp', '/content/homer_bart_1/bart64.bmp', '/content/homer_bart_1/bart65.bmp', '/content/homer_bart_1/bart66.bmp', '/content/homer_bart_1/bart67.bmp', '/content/homer_bart_1/bart68.bmp', '/content/homer_bart_1/bart69.bmp', '/content/homer_bart_1/bart7.bmp', '/content/homer_bart_1/bart70.bmp', '/content/homer_bart_1/bart71.bmp', '/content/homer_bart_1/bart72.bmp', '/content/homer_bart_1/bart73.bmp', '/content/homer_bart_1/bart74.bmp', '/content/homer_bart_1/bart75.bmp', '/content/homer_bart_1/bart76.bmp', '/content/homer_bart_1/bart77.bmp', '/content/homer_bart_1/bart79.bmp', '/content/homer_bart_1/bart8.bmp', '/content/homer_bart_1/bart80.bmp', '/content/homer_bart_1/bart81.bmp', '/content/homer_bart_1/bart82.bmp', '/content/homer_bart_1/bart83.bmp', '/content/homer_bart_1/bart84.bmp', '/content/homer_bart_1/bart85.bmp', '/content/homer_bart_1/bart86.bmp', '/content/homer_bart_1/bart87.bmp', '/content/homer_bart_1/bart89.bmp', '/content/homer_bart_1/bart9.bmp', '/content/homer_bart_1/bart90.bmp', '/content/homer_bart_1/bart91.bmp', '/content/homer_bart_1/bart92.bmp', '/content/homer_bart_1/bart93.bmp', '/content/homer_bart_1/bart94.bmp', '/content/homer_bart_1/bart95.bmp', '/content/homer_bart_1/bart96.bmp', '/content/homer_bart_1/bart97.bmp', '/content/homer_bart_1/bart98.bmp', '/content/homer_bart_1/bart99.bmp', '/content/homer_bart_1/homer1.bmp', '/content/homer_bart_1/homer10.bmp', '/content/homer_bart_1/homer100.bmp', '/content/homer_bart_1/homer101.bmp', '/content/homer_bart_1/homer102.bmp', '/content/homer_bart_1/homer103.bmp', '/content/homer_bart_1/homer104.bmp', '/content/homer_bart_1/homer105.bmp', '/content/homer_bart_1/homer106.bmp', '/content/homer_bart_1/homer107.bmp', '/content/homer_bart_1/homer109.bmp', '/content/homer_bart_1/homer110.bmp', '/content/homer_bart_1/homer112.bmp', '/content/homer_bart_1/homer113.bmp', '/content/homer_bart_1/homer115.bmp', '/content/homer_bart_1/homer116.bmp', '/content/homer_bart_1/homer117.bmp', '/content/homer_bart_1/homer119.bmp', '/content/homer_bart_1/homer120.bmp', '/content/homer_bart_1/homer121.bmp', '/content/homer_bart_1/homer122.bmp', '/content/homer_bart_1/homer123.bmp', '/content/homer_bart_1/homer124.bmp', '/content/homer_bart_1/homer13.bmp', '/content/homer_bart_1/homer14.bmp', '/content/homer_bart_1/homer15.bmp', '/content/homer_bart_1/homer16.bmp', '/content/homer_bart_1/homer17.bmp', '/content/homer_bart_1/homer18.bmp', '/content/homer_bart_1/homer2.bmp', '/content/homer_bart_1/homer20.bmp', '/content/homer_bart_1/homer21.bmp', '/content/homer_bart_1/homer22.bmp', '/content/homer_bart_1/homer23.bmp', '/content/homer_bart_1/homer24.bmp', '/content/homer_bart_1/homer26.bmp', '/content/homer_bart_1/homer27.bmp', '/content/homer_bart_1/homer28.bmp', '/content/homer_bart_1/homer29.bmp', '/content/homer_bart_1/homer3.bmp', '/content/homer_bart_1/homer30.bmp', '/content/homer_bart_1/homer31.bmp', '/content/homer_bart_1/homer32.bmp', '/content/homer_bart_1/homer33.bmp', '/content/homer_bart_1/homer34.bmp', '/content/homer_bart_1/homer35.bmp', '/content/homer_bart_1/homer36.bmp', '/content/homer_bart_1/homer37.bmp', '/content/homer_bart_1/homer38.bmp', '/content/homer_bart_1/homer4.bmp', '/content/homer_bart_1/homer40.bmp', '/content/homer_bart_1/homer41.bmp', '/content/homer_bart_1/homer43.bmp', '/content/homer_bart_1/homer44.bmp', '/content/homer_bart_1/homer45.bmp', '/content/homer_bart_1/homer46.bmp', '/content/homer_bart_1/homer47.bmp', '/content/homer_bart_1/homer48.bmp', '/content/homer_bart_1/homer49.bmp', '/content/homer_bart_1/homer5.bmp', '/content/homer_bart_1/homer50.bmp', '/content/homer_bart_1/homer51.bmp', '/content/homer_bart_1/homer52.bmp', '/content/homer_bart_1/homer54.bmp', '/content/homer_bart_1/homer55.bmp', '/content/homer_bart_1/homer56.bmp', '/content/homer_bart_1/homer57.bmp', '/content/homer_bart_1/homer58.bmp', '/content/homer_bart_1/homer59.bmp', '/content/homer_bart_1/homer6.bmp', '/content/homer_bart_1/homer60.bmp', '/content/homer_bart_1/homer61.bmp', '/content/homer_bart_1/homer62.bmp', '/content/homer_bart_1/homer63.bmp', '/content/homer_bart_1/homer65.bmp', '/content/homer_bart_1/homer66.bmp', '/content/homer_bart_1/homer68.bmp', '/content/homer_bart_1/homer69.bmp', '/content/homer_bart_1/homer7.bmp', '/content/homer_bart_1/homer70.bmp', '/content/homer_bart_1/homer71.bmp', '/content/homer_bart_1/homer72.bmp', '/content/homer_bart_1/homer73.bmp', '/content/homer_bart_1/homer74.bmp', '/content/homer_bart_1/homer75.bmp', '/content/homer_bart_1/homer76.bmp', '/content/homer_bart_1/homer77.bmp', '/content/homer_bart_1/homer78.bmp', '/content/homer_bart_1/homer79.bmp', '/content/homer_bart_1/homer8.bmp', '/content/homer_bart_1/homer80.bmp', '/content/homer_bart_1/homer81.bmp', '/content/homer_bart_1/homer82.bmp', '/content/homer_bart_1/homer83.bmp', '/content/homer_bart_1/homer84.bmp', '/content/homer_bart_1/homer85.bmp', '/content/homer_bart_1/homer86.bmp', '/content/homer_bart_1/homer87.bmp', '/content/homer_bart_1/homer9.bmp', '/content/homer_bart_1/homer90.bmp', '/content/homer_bart_1/homer91.bmp', '/content/homer_bart_1/homer92.bmp', '/content/homer_bart_1/homer93.bmp', '/content/homer_bart_1/homer94.bmp', '/content/homer_bart_1/homer95.bmp', '/content/homer_bart_1/homer96.bmp', '/content/homer_bart_1/homer97.bmp', '/content/homer_bart_1/homer98.bmp', '/content/homer_bart_1/homer99.bmp']\n"
          ]
        }
      ]
    },
    {
      "cell_type": "code",
      "source": [
        "largura, altura = 128,128"
      ],
      "metadata": {
        "id": "UxhqhX9gWa_a"
      },
      "execution_count": null,
      "outputs": []
    },
    {
      "cell_type": "code",
      "source": [
        "# arquivos.remove('/content/homer_bart_1/.DS_Store')\n",
        "imagens = []\n",
        "classes = []\n",
        "\n",
        "for imagem_caminho in arquivos:\n",
        "  try:\n",
        "    imagem = cv2.imread(imagem_caminho)\n",
        "    (H,W) = imagem.shape[:2]\n",
        "  except:\n",
        "    continue\n",
        "\n",
        "  imagem = cv2.resize(imagem, (largura,altura))\n",
        "  imagem = cv2.cvtColor(imagem, cv2.COLOR_BGR2GRAY)\n",
        "\n",
        "  imagem = imagem.ravel()\n",
        "  imagens.append(imagem)\n",
        "\n",
        "  nome_imagem = os.path.basename(os.path.normpath(imagem_caminho))\n",
        "  bart = nome_imagem.startswith('b')\n",
        "  classe = 1\n",
        "  if (bart):\n",
        "    classe = 0\n",
        "\n",
        "  classes.append(classe)\n"
      ],
      "metadata": {
        "id": "ov_8cwzrXSLn"
      },
      "execution_count": null,
      "outputs": []
    },
    {
      "cell_type": "code",
      "source": [
        "x = np.asarray(imagens)\n",
        "y = np.asarray(classes)"
      ],
      "metadata": {
        "id": "Z9zYijjja7iX"
      },
      "execution_count": null,
      "outputs": []
    },
    {
      "cell_type": "code",
      "source": [
        "np.unique(y, return_counts=True)"
      ],
      "metadata": {
        "colab": {
          "base_uri": "https://localhost:8080/"
        },
        "id": "0t9FO6yCbz2c",
        "outputId": "e3dfabda-b1ea-423d-c0f7-b6c9957dce63"
      },
      "execution_count": null,
      "outputs": [
        {
          "output_type": "execute_result",
          "data": {
            "text/plain": [
              "(array([0, 1]), array([160, 109]))"
            ]
          },
          "metadata": {},
          "execution_count": 9
        }
      ]
    },
    {
      "cell_type": "markdown",
      "source": [
        "###Normalização dos dados\n",
        "\n",
        "\n",
        "\n"
      ],
      "metadata": {
        "id": "O8XYGThXT-Np"
      }
    },
    {
      "cell_type": "code",
      "source": [
        "from sklearn.preprocessing import MinMaxScaler\n",
        "\n",
        "scaler = MinMaxScaler()\n",
        "x = scaler.fit_transform(x)"
      ],
      "metadata": {
        "id": "xbhxT6YqcAQo"
      },
      "execution_count": null,
      "outputs": []
    },
    {
      "cell_type": "markdown",
      "source": [
        "###Bases de treinamento e teste\n",
        "\n",
        "\n",
        "\n"
      ],
      "metadata": {
        "id": "F2aHMU6OT-Sn"
      }
    },
    {
      "cell_type": "code",
      "source": [
        "from sklearn.model_selection import train_test_split"
      ],
      "metadata": {
        "id": "A_Idks5RJKHV"
      },
      "execution_count": null,
      "outputs": []
    },
    {
      "cell_type": "code",
      "source": [
        "x_treinamento, x_teste, y_treinamento, y_teste = train_test_split(x, y, test_size = 0.2, random_state = 1)"
      ],
      "metadata": {
        "id": "99QC2s_RJP7n"
      },
      "execution_count": null,
      "outputs": []
    },
    {
      "cell_type": "code",
      "source": [
        "x_treinamento.shape, y_treinamento.shape"
      ],
      "metadata": {
        "colab": {
          "base_uri": "https://localhost:8080/"
        },
        "id": "yw0RpQ-iJrke",
        "outputId": "7e699bcc-d534-4469-98ca-47627df4ac11"
      },
      "execution_count": null,
      "outputs": [
        {
          "output_type": "execute_result",
          "data": {
            "text/plain": [
              "((215, 16384), (215,))"
            ]
          },
          "metadata": {},
          "execution_count": 32
        }
      ]
    },
    {
      "cell_type": "markdown",
      "source": [
        "###Construção e treinamento da rede neural\n",
        "\n",
        "\n",
        "\n"
      ],
      "metadata": {
        "id": "qYckLX96T-Wr"
      }
    },
    {
      "cell_type": "code",
      "source": [
        "(16384 + 2) / 2"
      ],
      "metadata": {
        "colab": {
          "base_uri": "https://localhost:8080/"
        },
        "id": "_XdYyP9EKzqw",
        "outputId": "610cef0d-bf69-43a7-88f4-b8ee17fd4fc3"
      },
      "execution_count": null,
      "outputs": [
        {
          "output_type": "execute_result",
          "data": {
            "text/plain": [
              "8193.0"
            ]
          },
          "metadata": {},
          "execution_count": 33
        }
      ]
    },
    {
      "cell_type": "code",
      "source": [
        "# 16384 -> 8193\n",
        "network1 = tf.keras.models.Sequential()\n",
        "network1.add(tf.keras.layers.Dense(input_shape = (16384,), units=8193, activation='relu'))\n",
        "network1.add(tf.keras.layers.Dense(units = 8193, activation='relu'))\n",
        "network1.add(tf.keras.layers.Dense(units = 1, activation='sigmoid'))"
      ],
      "metadata": {
        "colab": {
          "base_uri": "https://localhost:8080/"
        },
        "id": "hzjmGIjXJ_XM",
        "outputId": "a8b88f95-04fd-4044-9017-0ccfa7eaa99d"
      },
      "execution_count": null,
      "outputs": [
        {
          "output_type": "stream",
          "name": "stderr",
          "text": [
            "/usr/local/lib/python3.10/dist-packages/keras/src/layers/core/dense.py:87: UserWarning: Do not pass an `input_shape`/`input_dim` argument to a layer. When using Sequential models, prefer using an `Input(shape)` object as the first layer in the model instead.\n",
            "  super().__init__(activity_regularizer=activity_regularizer, **kwargs)\n"
          ]
        }
      ]
    },
    {
      "cell_type": "code",
      "source": [
        "network1.summary()"
      ],
      "metadata": {
        "colab": {
          "base_uri": "https://localhost:8080/",
          "height": 255
        },
        "id": "n7Q3D9sILk5H",
        "outputId": "a6bb3b0d-6001-4f80-a88d-fafa3201fd8e"
      },
      "execution_count": null,
      "outputs": [
        {
          "output_type": "display_data",
          "data": {
            "text/plain": [
              "\u001b[1mModel: \"sequential_6\"\u001b[0m\n"
            ],
            "text/html": [
              "<pre style=\"white-space:pre;overflow-x:auto;line-height:normal;font-family:Menlo,'DejaVu Sans Mono',consolas,'Courier New',monospace\"><span style=\"font-weight: bold\">Model: \"sequential_6\"</span>\n",
              "</pre>\n"
            ]
          },
          "metadata": {}
        },
        {
          "output_type": "display_data",
          "data": {
            "text/plain": [
              "┏━━━━━━━━━━━━━━━━━━━━━━━━━━━━━━━━━━━━━━┳━━━━━━━━━━━━━━━━━━━━━━━━━━━━━┳━━━━━━━━━━━━━━━━━┓\n",
              "┃\u001b[1m \u001b[0m\u001b[1mLayer (type)                        \u001b[0m\u001b[1m \u001b[0m┃\u001b[1m \u001b[0m\u001b[1mOutput Shape               \u001b[0m\u001b[1m \u001b[0m┃\u001b[1m \u001b[0m\u001b[1m        Param #\u001b[0m\u001b[1m \u001b[0m┃\n",
              "┡━━━━━━━━━━━━━━━━━━━━━━━━━━━━━━━━━━━━━━╇━━━━━━━━━━━━━━━━━━━━━━━━━━━━━╇━━━━━━━━━━━━━━━━━┩\n",
              "│ dense_6 (\u001b[38;5;33mDense\u001b[0m)                      │ (\u001b[38;5;45mNone\u001b[0m, \u001b[38;5;34m8193\u001b[0m)                │     \u001b[38;5;34m134,242,305\u001b[0m │\n",
              "├──────────────────────────────────────┼─────────────────────────────┼─────────────────┤\n",
              "│ dense_7 (\u001b[38;5;33mDense\u001b[0m)                      │ (\u001b[38;5;45mNone\u001b[0m, \u001b[38;5;34m8193\u001b[0m)                │      \u001b[38;5;34m67,133,442\u001b[0m │\n",
              "├──────────────────────────────────────┼─────────────────────────────┼─────────────────┤\n",
              "│ dense_8 (\u001b[38;5;33mDense\u001b[0m)                      │ (\u001b[38;5;45mNone\u001b[0m, \u001b[38;5;34m1\u001b[0m)                   │           \u001b[38;5;34m8,194\u001b[0m │\n",
              "└──────────────────────────────────────┴─────────────────────────────┴─────────────────┘\n"
            ],
            "text/html": [
              "<pre style=\"white-space:pre;overflow-x:auto;line-height:normal;font-family:Menlo,'DejaVu Sans Mono',consolas,'Courier New',monospace\">┏━━━━━━━━━━━━━━━━━━━━━━━━━━━━━━━━━━━━━━┳━━━━━━━━━━━━━━━━━━━━━━━━━━━━━┳━━━━━━━━━━━━━━━━━┓\n",
              "┃<span style=\"font-weight: bold\"> Layer (type)                         </span>┃<span style=\"font-weight: bold\"> Output Shape                </span>┃<span style=\"font-weight: bold\">         Param # </span>┃\n",
              "┡━━━━━━━━━━━━━━━━━━━━━━━━━━━━━━━━━━━━━━╇━━━━━━━━━━━━━━━━━━━━━━━━━━━━━╇━━━━━━━━━━━━━━━━━┩\n",
              "│ dense_6 (<span style=\"color: #0087ff; text-decoration-color: #0087ff\">Dense</span>)                      │ (<span style=\"color: #00d7ff; text-decoration-color: #00d7ff\">None</span>, <span style=\"color: #00af00; text-decoration-color: #00af00\">8193</span>)                │     <span style=\"color: #00af00; text-decoration-color: #00af00\">134,242,305</span> │\n",
              "├──────────────────────────────────────┼─────────────────────────────┼─────────────────┤\n",
              "│ dense_7 (<span style=\"color: #0087ff; text-decoration-color: #0087ff\">Dense</span>)                      │ (<span style=\"color: #00d7ff; text-decoration-color: #00d7ff\">None</span>, <span style=\"color: #00af00; text-decoration-color: #00af00\">8193</span>)                │      <span style=\"color: #00af00; text-decoration-color: #00af00\">67,133,442</span> │\n",
              "├──────────────────────────────────────┼─────────────────────────────┼─────────────────┤\n",
              "│ dense_8 (<span style=\"color: #0087ff; text-decoration-color: #0087ff\">Dense</span>)                      │ (<span style=\"color: #00d7ff; text-decoration-color: #00d7ff\">None</span>, <span style=\"color: #00af00; text-decoration-color: #00af00\">1</span>)                   │           <span style=\"color: #00af00; text-decoration-color: #00af00\">8,194</span> │\n",
              "└──────────────────────────────────────┴─────────────────────────────┴─────────────────┘\n",
              "</pre>\n"
            ]
          },
          "metadata": {}
        },
        {
          "output_type": "display_data",
          "data": {
            "text/plain": [
              "\u001b[1m Total params: \u001b[0m\u001b[38;5;34m201,383,941\u001b[0m (768.22 MB)\n"
            ],
            "text/html": [
              "<pre style=\"white-space:pre;overflow-x:auto;line-height:normal;font-family:Menlo,'DejaVu Sans Mono',consolas,'Courier New',monospace\"><span style=\"font-weight: bold\"> Total params: </span><span style=\"color: #00af00; text-decoration-color: #00af00\">201,383,941</span> (768.22 MB)\n",
              "</pre>\n"
            ]
          },
          "metadata": {}
        },
        {
          "output_type": "display_data",
          "data": {
            "text/plain": [
              "\u001b[1m Trainable params: \u001b[0m\u001b[38;5;34m201,383,941\u001b[0m (768.22 MB)\n"
            ],
            "text/html": [
              "<pre style=\"white-space:pre;overflow-x:auto;line-height:normal;font-family:Menlo,'DejaVu Sans Mono',consolas,'Courier New',monospace\"><span style=\"font-weight: bold\"> Trainable params: </span><span style=\"color: #00af00; text-decoration-color: #00af00\">201,383,941</span> (768.22 MB)\n",
              "</pre>\n"
            ]
          },
          "metadata": {}
        },
        {
          "output_type": "display_data",
          "data": {
            "text/plain": [
              "\u001b[1m Non-trainable params: \u001b[0m\u001b[38;5;34m0\u001b[0m (0.00 B)\n"
            ],
            "text/html": [
              "<pre style=\"white-space:pre;overflow-x:auto;line-height:normal;font-family:Menlo,'DejaVu Sans Mono',consolas,'Courier New',monospace\"><span style=\"font-weight: bold\"> Non-trainable params: </span><span style=\"color: #00af00; text-decoration-color: #00af00\">0</span> (0.00 B)\n",
              "</pre>\n"
            ]
          },
          "metadata": {}
        }
      ]
    },
    {
      "cell_type": "code",
      "source": [
        "network1.compile(optimizer='Adam', loss='binary_crossentropy', metrics=['accuracy'])"
      ],
      "metadata": {
        "id": "koZUJFpBLp0S"
      },
      "execution_count": null,
      "outputs": []
    },
    {
      "cell_type": "code",
      "source": [
        "historico = network1.fit(x_treinamento, y_treinamento, epochs = 50)"
      ],
      "metadata": {
        "colab": {
          "base_uri": "https://localhost:8080/"
        },
        "id": "bKREO3hbMBGQ",
        "outputId": "596d023f-948b-4d8a-9c49-64ca0d732f67"
      },
      "execution_count": null,
      "outputs": [
        {
          "output_type": "stream",
          "name": "stdout",
          "text": [
            "Epoch 1/50\n",
            "\u001b[1m7/7\u001b[0m \u001b[32m━━━━━━━━━━━━━━━━━━━━\u001b[0m\u001b[37m\u001b[0m \u001b[1m2s\u001b[0m 100ms/step - accuracy: 0.4899 - loss: 123.5455\n",
            "Epoch 2/50\n",
            "\u001b[1m7/7\u001b[0m \u001b[32m━━━━━━━━━━━━━━━━━━━━\u001b[0m\u001b[37m\u001b[0m \u001b[1m0s\u001b[0m 42ms/step - accuracy: 0.4157 - loss: 41.0599\n",
            "Epoch 3/50\n",
            "\u001b[1m7/7\u001b[0m \u001b[32m━━━━━━━━━━━━━━━━━━━━\u001b[0m\u001b[37m\u001b[0m \u001b[1m0s\u001b[0m 42ms/step - accuracy: 0.5568 - loss: 4.6336\n",
            "Epoch 4/50\n",
            "\u001b[1m7/7\u001b[0m \u001b[32m━━━━━━━━━━━━━━━━━━━━\u001b[0m\u001b[37m\u001b[0m \u001b[1m1s\u001b[0m 42ms/step - accuracy: 0.5152 - loss: 1.1148\n",
            "Epoch 5/50\n",
            "\u001b[1m7/7\u001b[0m \u001b[32m━━━━━━━━━━━━━━━━━━━━\u001b[0m\u001b[37m\u001b[0m \u001b[1m0s\u001b[0m 42ms/step - accuracy: 0.6379 - loss: 0.6455\n",
            "Epoch 6/50\n",
            "\u001b[1m7/7\u001b[0m \u001b[32m━━━━━━━━━━━━━━━━━━━━\u001b[0m\u001b[37m\u001b[0m \u001b[1m0s\u001b[0m 42ms/step - accuracy: 0.5664 - loss: 0.6766\n",
            "Epoch 7/50\n",
            "\u001b[1m7/7\u001b[0m \u001b[32m━━━━━━━━━━━━━━━━━━━━\u001b[0m\u001b[37m\u001b[0m \u001b[1m1s\u001b[0m 42ms/step - accuracy: 0.6342 - loss: 0.6568\n",
            "Epoch 8/50\n",
            "\u001b[1m7/7\u001b[0m \u001b[32m━━━━━━━━━━━━━━━━━━━━\u001b[0m\u001b[37m\u001b[0m \u001b[1m1s\u001b[0m 42ms/step - accuracy: 0.6195 - loss: 0.6642\n",
            "Epoch 9/50\n",
            "\u001b[1m7/7\u001b[0m \u001b[32m━━━━━━━━━━━━━━━━━━━━\u001b[0m\u001b[37m\u001b[0m \u001b[1m0s\u001b[0m 43ms/step - accuracy: 0.5845 - loss: 0.6559\n",
            "Epoch 10/50\n",
            "\u001b[1m7/7\u001b[0m \u001b[32m━━━━━━━━━━━━━━━━━━━━\u001b[0m\u001b[37m\u001b[0m \u001b[1m1s\u001b[0m 44ms/step - accuracy: 0.6495 - loss: 0.6070\n",
            "Epoch 11/50\n",
            "\u001b[1m7/7\u001b[0m \u001b[32m━━━━━━━━━━━━━━━━━━━━\u001b[0m\u001b[37m\u001b[0m \u001b[1m0s\u001b[0m 44ms/step - accuracy: 0.6328 - loss: 0.6115\n",
            "Epoch 12/50\n",
            "\u001b[1m7/7\u001b[0m \u001b[32m━━━━━━━━━━━━━━━━━━━━\u001b[0m\u001b[37m\u001b[0m \u001b[1m1s\u001b[0m 43ms/step - accuracy: 0.6542 - loss: 0.5970\n",
            "Epoch 13/50\n",
            "\u001b[1m7/7\u001b[0m \u001b[32m━━━━━━━━━━━━━━━━━━━━\u001b[0m\u001b[37m\u001b[0m \u001b[1m1s\u001b[0m 44ms/step - accuracy: 0.5061 - loss: 0.7366\n",
            "Epoch 14/50\n",
            "\u001b[1m7/7\u001b[0m \u001b[32m━━━━━━━━━━━━━━━━━━━━\u001b[0m\u001b[37m\u001b[0m \u001b[1m1s\u001b[0m 43ms/step - accuracy: 0.7096 - loss: 0.6111\n",
            "Epoch 15/50\n",
            "\u001b[1m7/7\u001b[0m \u001b[32m━━━━━━━━━━━━━━━━━━━━\u001b[0m\u001b[37m\u001b[0m \u001b[1m1s\u001b[0m 42ms/step - accuracy: 0.7399 - loss: 0.5513\n",
            "Epoch 16/50\n",
            "\u001b[1m7/7\u001b[0m \u001b[32m━━━━━━━━━━━━━━━━━━━━\u001b[0m\u001b[37m\u001b[0m \u001b[1m0s\u001b[0m 41ms/step - accuracy: 0.7168 - loss: 0.5345\n",
            "Epoch 17/50\n",
            "\u001b[1m7/7\u001b[0m \u001b[32m━━━━━━━━━━━━━━━━━━━━\u001b[0m\u001b[37m\u001b[0m \u001b[1m0s\u001b[0m 42ms/step - accuracy: 0.7690 - loss: 0.5046\n",
            "Epoch 18/50\n",
            "\u001b[1m7/7\u001b[0m \u001b[32m━━━━━━━━━━━━━━━━━━━━\u001b[0m\u001b[37m\u001b[0m \u001b[1m0s\u001b[0m 42ms/step - accuracy: 0.7832 - loss: 0.4547\n",
            "Epoch 19/50\n",
            "\u001b[1m7/7\u001b[0m \u001b[32m━━━━━━━━━━━━━━━━━━━━\u001b[0m\u001b[37m\u001b[0m \u001b[1m0s\u001b[0m 42ms/step - accuracy: 0.6160 - loss: 0.9444\n",
            "Epoch 20/50\n",
            "\u001b[1m7/7\u001b[0m \u001b[32m━━━━━━━━━━━━━━━━━━━━\u001b[0m\u001b[37m\u001b[0m \u001b[1m1s\u001b[0m 42ms/step - accuracy: 0.6443 - loss: 0.5817\n",
            "Epoch 21/50\n",
            "\u001b[1m7/7\u001b[0m \u001b[32m━━━━━━━━━━━━━━━━━━━━\u001b[0m\u001b[37m\u001b[0m \u001b[1m1s\u001b[0m 42ms/step - accuracy: 0.7145 - loss: 0.5385\n",
            "Epoch 22/50\n",
            "\u001b[1m7/7\u001b[0m \u001b[32m━━━━━━━━━━━━━━━━━━━━\u001b[0m\u001b[37m\u001b[0m \u001b[1m0s\u001b[0m 42ms/step - accuracy: 0.8771 - loss: 0.4017\n",
            "Epoch 23/50\n",
            "\u001b[1m7/7\u001b[0m \u001b[32m━━━━━━━━━━━━━━━━━━━━\u001b[0m\u001b[37m\u001b[0m \u001b[1m0s\u001b[0m 42ms/step - accuracy: 0.8628 - loss: 0.3536\n",
            "Epoch 24/50\n",
            "\u001b[1m7/7\u001b[0m \u001b[32m━━━━━━━━━━━━━━━━━━━━\u001b[0m\u001b[37m\u001b[0m \u001b[1m0s\u001b[0m 42ms/step - accuracy: 0.8969 - loss: 0.2704\n",
            "Epoch 25/50\n",
            "\u001b[1m7/7\u001b[0m \u001b[32m━━━━━━━━━━━━━━━━━━━━\u001b[0m\u001b[37m\u001b[0m \u001b[1m1s\u001b[0m 42ms/step - accuracy: 0.7888 - loss: 0.4433\n",
            "Epoch 26/50\n",
            "\u001b[1m7/7\u001b[0m \u001b[32m━━━━━━━━━━━━━━━━━━━━\u001b[0m\u001b[37m\u001b[0m \u001b[1m0s\u001b[0m 42ms/step - accuracy: 0.8848 - loss: 0.2870\n",
            "Epoch 27/50\n",
            "\u001b[1m7/7\u001b[0m \u001b[32m━━━━━━━━━━━━━━━━━━━━\u001b[0m\u001b[37m\u001b[0m \u001b[1m0s\u001b[0m 41ms/step - accuracy: 0.8739 - loss: 0.2763\n",
            "Epoch 28/50\n",
            "\u001b[1m7/7\u001b[0m \u001b[32m━━━━━━━━━━━━━━━━━━━━\u001b[0m\u001b[37m\u001b[0m \u001b[1m1s\u001b[0m 42ms/step - accuracy: 0.8896 - loss: 0.2316\n",
            "Epoch 29/50\n",
            "\u001b[1m7/7\u001b[0m \u001b[32m━━━━━━━━━━━━━━━━━━━━\u001b[0m\u001b[37m\u001b[0m \u001b[1m1s\u001b[0m 42ms/step - accuracy: 0.9254 - loss: 0.1741\n",
            "Epoch 30/50\n",
            "\u001b[1m7/7\u001b[0m \u001b[32m━━━━━━━━━━━━━━━━━━━━\u001b[0m\u001b[37m\u001b[0m \u001b[1m0s\u001b[0m 42ms/step - accuracy: 0.9093 - loss: 0.2159\n",
            "Epoch 31/50\n",
            "\u001b[1m7/7\u001b[0m \u001b[32m━━━━━━━━━━━━━━━━━━━━\u001b[0m\u001b[37m\u001b[0m \u001b[1m1s\u001b[0m 42ms/step - accuracy: 0.9108 - loss: 0.1719\n",
            "Epoch 32/50\n",
            "\u001b[1m7/7\u001b[0m \u001b[32m━━━━━━━━━━━━━━━━━━━━\u001b[0m\u001b[37m\u001b[0m \u001b[1m0s\u001b[0m 42ms/step - accuracy: 0.9856 - loss: 0.0791\n",
            "Epoch 33/50\n",
            "\u001b[1m7/7\u001b[0m \u001b[32m━━━━━━━━━━━━━━━━━━━━\u001b[0m\u001b[37m\u001b[0m \u001b[1m1s\u001b[0m 42ms/step - accuracy: 0.7970 - loss: 0.4599\n",
            "Epoch 34/50\n",
            "\u001b[1m7/7\u001b[0m \u001b[32m━━━━━━━━━━━━━━━━━━━━\u001b[0m\u001b[37m\u001b[0m \u001b[1m0s\u001b[0m 42ms/step - accuracy: 0.8098 - loss: 0.3919\n",
            "Epoch 35/50\n",
            "\u001b[1m7/7\u001b[0m \u001b[32m━━━━━━━━━━━━━━━━━━━━\u001b[0m\u001b[37m\u001b[0m \u001b[1m0s\u001b[0m 42ms/step - accuracy: 0.8336 - loss: 0.3336\n",
            "Epoch 36/50\n",
            "\u001b[1m7/7\u001b[0m \u001b[32m━━━━━━━━━━━━━━━━━━━━\u001b[0m\u001b[37m\u001b[0m \u001b[1m0s\u001b[0m 42ms/step - accuracy: 0.9257 - loss: 0.1701\n",
            "Epoch 37/50\n",
            "\u001b[1m7/7\u001b[0m \u001b[32m━━━━━━━━━━━━━━━━━━━━\u001b[0m\u001b[37m\u001b[0m \u001b[1m0s\u001b[0m 42ms/step - accuracy: 0.9290 - loss: 0.1804\n",
            "Epoch 38/50\n",
            "\u001b[1m7/7\u001b[0m \u001b[32m━━━━━━━━━━━━━━━━━━━━\u001b[0m\u001b[37m\u001b[0m \u001b[1m0s\u001b[0m 43ms/step - accuracy: 0.9914 - loss: 0.0819\n",
            "Epoch 39/50\n",
            "\u001b[1m7/7\u001b[0m \u001b[32m━━━━━━━━━━━━━━━━━━━━\u001b[0m\u001b[37m\u001b[0m \u001b[1m0s\u001b[0m 42ms/step - accuracy: 0.9593 - loss: 0.0998\n",
            "Epoch 40/50\n",
            "\u001b[1m7/7\u001b[0m \u001b[32m━━━━━━━━━━━━━━━━━━━━\u001b[0m\u001b[37m\u001b[0m \u001b[1m1s\u001b[0m 43ms/step - accuracy: 0.9680 - loss: 0.0844\n",
            "Epoch 41/50\n",
            "\u001b[1m7/7\u001b[0m \u001b[32m━━━━━━━━━━━━━━━━━━━━\u001b[0m\u001b[37m\u001b[0m \u001b[1m1s\u001b[0m 44ms/step - accuracy: 0.9692 - loss: 0.0938\n",
            "Epoch 42/50\n",
            "\u001b[1m7/7\u001b[0m \u001b[32m━━━━━━━━━━━━━━━━━━━━\u001b[0m\u001b[37m\u001b[0m \u001b[1m1s\u001b[0m 45ms/step - accuracy: 0.9816 - loss: 0.0657\n",
            "Epoch 43/50\n",
            "\u001b[1m7/7\u001b[0m \u001b[32m━━━━━━━━━━━━━━━━━━━━\u001b[0m\u001b[37m\u001b[0m \u001b[1m1s\u001b[0m 44ms/step - accuracy: 1.0000 - loss: 0.0275\n",
            "Epoch 44/50\n",
            "\u001b[1m7/7\u001b[0m \u001b[32m━━━━━━━━━━━━━━━━━━━━\u001b[0m\u001b[37m\u001b[0m \u001b[1m0s\u001b[0m 42ms/step - accuracy: 1.0000 - loss: 0.0197\n",
            "Epoch 45/50\n",
            "\u001b[1m7/7\u001b[0m \u001b[32m━━━━━━━━━━━━━━━━━━━━\u001b[0m\u001b[37m\u001b[0m \u001b[1m1s\u001b[0m 42ms/step - accuracy: 0.9951 - loss: 0.0127\n",
            "Epoch 46/50\n",
            "\u001b[1m7/7\u001b[0m \u001b[32m━━━━━━━━━━━━━━━━━━━━\u001b[0m\u001b[37m\u001b[0m \u001b[1m0s\u001b[0m 42ms/step - accuracy: 1.0000 - loss: 0.0071\n",
            "Epoch 47/50\n",
            "\u001b[1m7/7\u001b[0m \u001b[32m━━━━━━━━━━━━━━━━━━━━\u001b[0m\u001b[37m\u001b[0m \u001b[1m0s\u001b[0m 41ms/step - accuracy: 1.0000 - loss: 0.0050\n",
            "Epoch 48/50\n",
            "\u001b[1m7/7\u001b[0m \u001b[32m━━━━━━━━━━━━━━━━━━━━\u001b[0m\u001b[37m\u001b[0m \u001b[1m0s\u001b[0m 42ms/step - accuracy: 1.0000 - loss: 0.0038\n",
            "Epoch 49/50\n",
            "\u001b[1m7/7\u001b[0m \u001b[32m━━━━━━━━━━━━━━━━━━━━\u001b[0m\u001b[37m\u001b[0m \u001b[1m0s\u001b[0m 42ms/step - accuracy: 1.0000 - loss: 0.0047\n",
            "Epoch 50/50\n",
            "\u001b[1m7/7\u001b[0m \u001b[32m━━━━━━━━━━━━━━━━━━━━\u001b[0m\u001b[37m\u001b[0m \u001b[1m0s\u001b[0m 42ms/step - accuracy: 1.0000 - loss: 0.0035\n"
          ]
        }
      ]
    },
    {
      "cell_type": "markdown",
      "source": [
        "###Avaliação da rede neural\n",
        "\n",
        "\n",
        "\n"
      ],
      "metadata": {
        "id": "0eezY6GLT-3W"
      }
    },
    {
      "cell_type": "code",
      "source": [
        "historico.history.keys()"
      ],
      "metadata": {
        "colab": {
          "base_uri": "https://localhost:8080/"
        },
        "id": "Rbkol5cBMXq6",
        "outputId": "9ec6fa9e-e70b-4b7f-e19e-b7fee2017bb3"
      },
      "execution_count": null,
      "outputs": [
        {
          "output_type": "execute_result",
          "data": {
            "text/plain": [
              "dict_keys(['accuracy', 'loss'])"
            ]
          },
          "metadata": {},
          "execution_count": 38
        }
      ]
    },
    {
      "cell_type": "code",
      "source": [
        "plt.plot(historico.history['loss']);"
      ],
      "metadata": {
        "colab": {
          "base_uri": "https://localhost:8080/",
          "height": 471
        },
        "id": "jozjuzqsMxFM",
        "outputId": "3fa9b3e1-dd3c-4fd0-e3d8-67dc2b0f1e55"
      },
      "execution_count": null,
      "outputs": [
        {
          "output_type": "execute_result",
          "data": {
            "text/plain": [
              "[<matplotlib.lines.Line2D at 0x7de8016d4730>]"
            ]
          },
          "metadata": {},
          "execution_count": 39
        },
        {
          "output_type": "display_data",
          "data": {
            "text/plain": [
              "<Figure size 640x480 with 1 Axes>"
            ],
            "image/png": "[encoded data removed]"
          },
          "metadata": {}
        }
      ]
    },
    {
      "cell_type": "code",
      "source": [
        "plt.plot(historico.history['accuracy']);"
      ],
      "metadata": {
        "colab": {
          "base_uri": "https://localhost:8080/",
          "height": 450
        },
        "id": "HKOlMdh3M7iD",
        "outputId": "210ede88-9b69-4f54-c6f4-75a520b56eee"
      },
      "execution_count": null,
      "outputs": [
        {
          "output_type": "display_data",
          "data": {
            "text/plain": [
              "<Figure size 640x480 with 1 Axes>"
            ],
            "image/png": "[encoded data removed]"
          },
          "metadata": {}
        }
      ]
    },
    {
      "cell_type": "code",
      "source": [
        "x_teste.shape"
      ],
      "metadata": {
        "colab": {
          "base_uri": "https://localhost:8080/"
        },
        "id": "ID-OBSR-NAzZ",
        "outputId": "411a4b7c-0d5b-4daa-b0e9-cb264648f8d9"
      },
      "execution_count": null,
      "outputs": [
        {
          "output_type": "execute_result",
          "data": {
            "text/plain": [
              "(54, 16384)"
            ]
          },
          "metadata": {},
          "execution_count": 43
        }
      ]
    },
    {
      "cell_type": "code",
      "source": [
        "previsoes = network1.predict(x_teste)"
      ],
      "metadata": {
        "colab": {
          "base_uri": "https://localhost:8080/"
        },
        "id": "jWYAg4PqNMIf",
        "outputId": "750bad0c-0ce5-4f20-b791-0a2d7e3a58a2"
      },
      "execution_count": null,
      "outputs": [
        {
          "output_type": "stream",
          "name": "stdout",
          "text": [
            "\u001b[1m2/2\u001b[0m \u001b[32m━━━━━━━━━━━━━━━━━━━━\u001b[0m\u001b[37m\u001b[0m \u001b[1m1s\u001b[0m 553ms/step\n"
          ]
        }
      ]
    },
    {
      "cell_type": "code",
      "source": [
        "previsoes = (previsoes > 0.5)\n",
        "previsoes"
      ],
      "metadata": {
        "colab": {
          "base_uri": "https://localhost:8080/"
        },
        "id": "hHXHLSimNTNz",
        "outputId": "4529fb7f-f8af-4d74-9908-93cfc6f3498d"
      },
      "execution_count": null,
      "outputs": [
        {
          "output_type": "execute_result",
          "data": {
            "text/plain": [
              "array([[False],\n",
              "       [ True],\n",
              "       [False],\n",
              "       [False],\n",
              "       [ True],\n",
              "       [False],\n",
              "       [ True],\n",
              "       [ True],\n",
              "       [ True],\n",
              "       [ True],\n",
              "       [False],\n",
              "       [ True],\n",
              "       [ True],\n",
              "       [ True],\n",
              "       [False],\n",
              "       [False],\n",
              "       [False],\n",
              "       [ True],\n",
              "       [False],\n",
              "       [False],\n",
              "       [False],\n",
              "       [ True],\n",
              "       [False],\n",
              "       [False],\n",
              "       [False],\n",
              "       [ True],\n",
              "       [False],\n",
              "       [False],\n",
              "       [False],\n",
              "       [ True],\n",
              "       [False],\n",
              "       [ True],\n",
              "       [ True],\n",
              "       [False],\n",
              "       [ True],\n",
              "       [False],\n",
              "       [ True],\n",
              "       [False],\n",
              "       [False],\n",
              "       [False],\n",
              "       [ True],\n",
              "       [ True],\n",
              "       [False],\n",
              "       [False],\n",
              "       [False],\n",
              "       [False],\n",
              "       [ True],\n",
              "       [False],\n",
              "       [False],\n",
              "       [ True],\n",
              "       [False],\n",
              "       [ True],\n",
              "       [ True],\n",
              "       [ True]])"
            ]
          },
          "metadata": {},
          "execution_count": 46
        }
      ]
    },
    {
      "cell_type": "code",
      "source": [
        "from sklearn.metrics import accuracy_score\n",
        "accuracy_score(y_teste, previsoes)"
      ],
      "metadata": {
        "colab": {
          "base_uri": "https://localhost:8080/"
        },
        "id": "WNyhV0L1Nq95",
        "outputId": "63400e67-c32f-4e29-bcf9-c7a642591a9f"
      },
      "execution_count": null,
      "outputs": [
        {
          "output_type": "execute_result",
          "data": {
            "text/plain": [
              "0.7037037037037037"
            ]
          },
          "metadata": {},
          "execution_count": 47
        }
      ]
    },
    {
      "cell_type": "code",
      "source": [
        "from sklearn.metrics import confusion_matrix\n",
        "cm = confusion_matrix(y_teste,previsoes)\n",
        "cm"
      ],
      "metadata": {
        "colab": {
          "base_uri": "https://localhost:8080/"
        },
        "id": "VAzfa-bkNzk0",
        "outputId": "b6f2a7fd-fc84-4839-a59e-00f36135aeb7"
      },
      "execution_count": null,
      "outputs": [
        {
          "output_type": "execute_result",
          "data": {
            "text/plain": [
              "array([[21,  7],\n",
              "       [ 9, 17]])"
            ]
          },
          "metadata": {},
          "execution_count": 49
        }
      ]
    },
    {
      "cell_type": "code",
      "source": [
        "sns.heatmap(cm, annot=True)"
      ],
      "metadata": {
        "colab": {
          "base_uri": "https://localhost:8080/",
          "height": 468
        },
        "id": "eaqy-s_eOAvR",
        "outputId": "8dddb020-2d8b-43df-c42b-69757c7d4e09"
      },
      "execution_count": null,
      "outputs": [
        {
          "output_type": "execute_result",
          "data": {
            "text/plain": [
              "<Axes: >"
            ]
          },
          "metadata": {},
          "execution_count": 50
        },
        {
          "output_type": "display_data",
          "data": {
            "text/plain": [
              "<Figure size 640x480 with 2 Axes>"
            ],
            "image/png": "[encoded data removed]"
          },
          "metadata": {}
        }
      ]
    },
    {
      "cell_type": "code",
      "source": [
        "from sklearn.metrics import classification_report\n",
        "print(classification_report(y_teste,previsoes))"
      ],
      "metadata": {
        "colab": {
          "base_uri": "https://localhost:8080/"
        },
        "id": "dK9jzU3eOKBi",
        "outputId": "19c3e0b5-3d07-43a1-9df2-5d45b09746df"
      },
      "execution_count": null,
      "outputs": [
        {
          "output_type": "stream",
          "name": "stdout",
          "text": [
            "              precision    recall  f1-score   support\n",
            "\n",
            "           0       0.70      0.75      0.72        28\n",
            "           1       0.71      0.65      0.68        26\n",
            "\n",
            "    accuracy                           0.70        54\n",
            "   macro avg       0.70      0.70      0.70        54\n",
            "weighted avg       0.70      0.70      0.70        54\n",
            "\n"
          ]
        }
      ]
    },
    {
      "cell_type": "markdown",
      "source": [
        "###Salvar e carregar a rede neural"
      ],
      "metadata": {
        "id": "tJyXR0koKADs"
      }
    },
    {
      "cell_type": "markdown",
      "source": [
        "####Salvando a rede neural"
      ],
      "metadata": {
        "id": "C_b6e8JOPNvA"
      }
    },
    {
      "cell_type": "code",
      "source": [
        "model_json = network1.to_json()\n",
        "with open('network1.json', 'w') as json_file:\n",
        "  json_file.write(model_json)"
      ],
      "metadata": {
        "id": "rh6w_TC0OedS"
      },
      "execution_count": null,
      "outputs": []
    },
    {
      "cell_type": "code",
      "source": [
        "from keras.models import save_model\n",
        "network1_saved = save_model(network1, 'weights1.hdf5')"
      ],
      "metadata": {
        "colab": {
          "base_uri": "https://localhost:8080/"
        },
        "id": "Qahr9BgeO6pp",
        "outputId": "40e19c43-2c59-46bd-a9c6-1cd262dbc172"
      },
      "execution_count": null,
      "outputs": [
        {
          "output_type": "stream",
          "name": "stderr",
          "text": [
            "WARNING:absl:You are saving your model as an HDF5 file via `model.save()` or `keras.saving.save_model(model)`. This file format is considered legacy. We recommend using instead the native Keras format, e.g. `model.save('my_model.keras')` or `keras.saving.save_model(model, 'my_model.keras')`. \n"
          ]
        }
      ]
    },
    {
      "cell_type": "markdown",
      "source": [
        "####Carregando rede neural"
      ],
      "metadata": {
        "id": "ieInNaXDPTGF"
      }
    },
    {
      "cell_type": "code",
      "source": [
        "with open('network1.json') as json_file:\n",
        "  json_saved_model = json_file.read()\n",
        "json_saved_model"
      ],
      "metadata": {
        "colab": {
          "base_uri": "https://localhost:8080/",
          "height": 199
        },
        "id": "4mSzoGUuPMzp",
        "outputId": "a3738189-6a75-4d17-8117-615c3dbd015e"
      },
      "execution_count": null,
      "outputs": [
        {
          "output_type": "execute_result",
          "data": {
            "text/plain": [
              "'{\"module\": \"keras\", \"class_name\": \"Sequential\", \"config\": {\"name\": \"sequential_6\", \"trainable\": true, \"dtype\": {\"module\": \"keras\", \"class_name\": \"DTypePolicy\", \"config\": {\"name\": \"float32\"}, \"registered_name\": null}, \"layers\": [{\"module\": \"keras.layers\", \"class_name\": \"InputLayer\", \"config\": {\"batch_shape\": [null, 16384], \"dtype\": \"float32\", \"sparse\": false, \"name\": \"input_layer_3\"}, \"registered_name\": null}, {\"module\": \"keras.layers\", \"class_name\": \"Dense\", \"config\": {\"name\": \"dense_6\", \"trainable\": true, \"dtype\": {\"module\": \"keras\", \"class_name\": \"DTypePolicy\", \"config\": {\"name\": \"float32\"}, \"registered_name\": null}, \"units\": 8193, \"activation\": \"relu\", \"use_bias\": true, \"kernel_initializer\": {\"module\": \"keras.initializers\", \"class_name\": \"GlorotUniform\", \"config\": {\"seed\": null}, \"registered_name\": null}, \"bias_initializer\": {\"module\": \"keras.initializers\", \"class_name\": \"Zeros\", \"config\": {}, \"registered_name\": null}, \"kernel_regularizer\": null, \"bias_regularizer\": null, \"kernel_constraint\": null, \"bias_constraint\": null}, \"registered_name\": null, \"build_config\": {\"input_shape\": [null, 16384]}}, {\"module\": \"keras.layers\", \"class_name\": \"Dense\", \"config\": {\"name\": \"dense_7\", \"trainable\": true, \"dtype\": {\"module\": \"keras\", \"class_name\": \"DTypePolicy\", \"config\": {\"name\": \"float32\"}, \"registered_name\": null}, \"units\": 8193, \"activation\": \"relu\", \"use_bias\": true, \"kernel_initializer\": {\"module\": \"keras.initializers\", \"class_name\": \"GlorotUniform\", \"config\": {\"seed\": null}, \"registered_name\": null}, \"bias_initializer\": {\"module\": \"keras.initializers\", \"class_name\": \"Zeros\", \"config\": {}, \"registered_name\": null}, \"kernel_regularizer\": null, \"bias_regularizer\": null, \"kernel_constraint\": null, \"bias_constraint\": null}, \"registered_name\": null, \"build_config\": {\"input_shape\": [null, 8193]}}, {\"module\": \"keras.layers\", \"class_name\": \"Dense\", \"config\": {\"name\": \"dense_8\", \"trainable\": true, \"dtype\": {\"module\": \"keras\", \"class_name\": \"DTypePolicy\", \"config\": {\"name\": \"float32\"}, \"registered_name\": null}, \"units\": 1, \"activation\": \"sigmoid\", \"use_bias\": true, \"kernel_initializer\": {\"module\": \"keras.initializers\", \"class_name\": \"GlorotUniform\", \"config\": {\"seed\": null}, \"registered_name\": null}, \"bias_initializer\": {\"module\": \"keras.initializers\", \"class_name\": \"Zeros\", \"config\": {}, \"registered_name\": null}, \"kernel_regularizer\": null, \"bias_regularizer\": null, \"kernel_constraint\": null, \"bias_constraint\": null}, \"registered_name\": null, \"build_config\": {\"input_shape\": [null, 8193]}}], \"build_input_shape\": [null, 16384]}, \"registered_name\": null, \"build_config\": {\"input_shape\": [null, 16384]}, \"compile_config\": {\"optimizer\": {\"module\": \"keras.optimizers\", \"class_name\": \"Adam\", \"config\": {\"name\": \"adam\", \"learning_rate\": 0.0010000000474974513, \"weight_decay\": null, \"clipnorm\": null, \"global_clipnorm\": null, \"clipvalue\": null, \"use_ema\": false, \"ema_momentum\": 0.99, \"ema_overwrite_frequency\": null, \"loss_scale_factor\": null, \"gradient_accumulation_steps\": null, \"beta_1\": 0.9, \"beta_2\": 0.999, \"epsilon\": 1e-07, \"amsgrad\": false}, \"registered_name\": null}, \"loss\": \"binary_crossentropy\", \"loss_weights\": null, \"metrics\": [\"accuracy\"], \"weighted_metrics\": null, \"run_eagerly\": false, \"steps_per_execution\": 1, \"jit_compile\": true}}'"
            ],
            "application/vnd.google.colaboratory.intrinsic+json": {
              "type": "string"
            }
          },
          "metadata": {},
          "execution_count": 54
        }
      ]
    },
    {
      "cell_type": "code",
      "source": [
        "network1_loaded = tf.keras.models.model_from_json(json_saved_model)\n",
        "network1_loaded.load_weights('/content/weights1.hdf5')\n",
        "network1.compile(loss = 'binary_crossentropy', optimizer = 'Adam', metrics = ['accuracy'])"
      ],
      "metadata": {
        "id": "ShNMj0yPPlVq"
      },
      "execution_count": null,
      "outputs": []
    },
    {
      "cell_type": "code",
      "source": [
        "network1_loaded.summary()"
      ],
      "metadata": {
        "colab": {
          "base_uri": "https://localhost:8080/",
          "height": 272
        },
        "id": "ICp7nrMnP_cE",
        "outputId": "96dd75d8-48da-4422-9c63-9594aa1af354"
      },
      "execution_count": null,
      "outputs": [
        {
          "output_type": "display_data",
          "data": {
            "text/plain": [
              "\u001b[1mModel: \"sequential_6\"\u001b[0m\n"
            ],
            "text/html": [
              "<pre style=\"white-space:pre;overflow-x:auto;line-height:normal;font-family:Menlo,'DejaVu Sans Mono',consolas,'Courier New',monospace\"><span style=\"font-weight: bold\">Model: \"sequential_6\"</span>\n",
              "</pre>\n"
            ]
          },
          "metadata": {}
        },
        {
          "output_type": "display_data",
          "data": {
            "text/plain": [
              "┏━━━━━━━━━━━━━━━━━━━━━━━━━━━━━━━━━━━━━━┳━━━━━━━━━━━━━━━━━━━━━━━━━━━━━┳━━━━━━━━━━━━━━━━━┓\n",
              "┃\u001b[1m \u001b[0m\u001b[1mLayer (type)                        \u001b[0m\u001b[1m \u001b[0m┃\u001b[1m \u001b[0m\u001b[1mOutput Shape               \u001b[0m\u001b[1m \u001b[0m┃\u001b[1m \u001b[0m\u001b[1m        Param #\u001b[0m\u001b[1m \u001b[0m┃\n",
              "┡━━━━━━━━━━━━━━━━━━━━━━━━━━━━━━━━━━━━━━╇━━━━━━━━━━━━━━━━━━━━━━━━━━━━━╇━━━━━━━━━━━━━━━━━┩\n",
              "│ dense_6 (\u001b[38;5;33mDense\u001b[0m)                      │ (\u001b[38;5;45mNone\u001b[0m, \u001b[38;5;34m8193\u001b[0m)                │     \u001b[38;5;34m134,242,305\u001b[0m │\n",
              "├──────────────────────────────────────┼─────────────────────────────┼─────────────────┤\n",
              "│ dense_7 (\u001b[38;5;33mDense\u001b[0m)                      │ (\u001b[38;5;45mNone\u001b[0m, \u001b[38;5;34m8193\u001b[0m)                │      \u001b[38;5;34m67,133,442\u001b[0m │\n",
              "├──────────────────────────────────────┼─────────────────────────────┼─────────────────┤\n",
              "│ dense_8 (\u001b[38;5;33mDense\u001b[0m)                      │ (\u001b[38;5;45mNone\u001b[0m, \u001b[38;5;34m1\u001b[0m)                   │           \u001b[38;5;34m8,194\u001b[0m │\n",
              "└──────────────────────────────────────┴─────────────────────────────┴─────────────────┘\n"
            ],
            "text/html": [
              "<pre style=\"white-space:pre;overflow-x:auto;line-height:normal;font-family:Menlo,'DejaVu Sans Mono',consolas,'Courier New',monospace\">┏━━━━━━━━━━━━━━━━━━━━━━━━━━━━━━━━━━━━━━┳━━━━━━━━━━━━━━━━━━━━━━━━━━━━━┳━━━━━━━━━━━━━━━━━┓\n",
              "┃<span style=\"font-weight: bold\"> Layer (type)                         </span>┃<span style=\"font-weight: bold\"> Output Shape                </span>┃<span style=\"font-weight: bold\">         Param # </span>┃\n",
              "┡━━━━━━━━━━━━━━━━━━━━━━━━━━━━━━━━━━━━━━╇━━━━━━━━━━━━━━━━━━━━━━━━━━━━━╇━━━━━━━━━━━━━━━━━┩\n",
              "│ dense_6 (<span style=\"color: #0087ff; text-decoration-color: #0087ff\">Dense</span>)                      │ (<span style=\"color: #00d7ff; text-decoration-color: #00d7ff\">None</span>, <span style=\"color: #00af00; text-decoration-color: #00af00\">8193</span>)                │     <span style=\"color: #00af00; text-decoration-color: #00af00\">134,242,305</span> │\n",
              "├──────────────────────────────────────┼─────────────────────────────┼─────────────────┤\n",
              "│ dense_7 (<span style=\"color: #0087ff; text-decoration-color: #0087ff\">Dense</span>)                      │ (<span style=\"color: #00d7ff; text-decoration-color: #00d7ff\">None</span>, <span style=\"color: #00af00; text-decoration-color: #00af00\">8193</span>)                │      <span style=\"color: #00af00; text-decoration-color: #00af00\">67,133,442</span> │\n",
              "├──────────────────────────────────────┼─────────────────────────────┼─────────────────┤\n",
              "│ dense_8 (<span style=\"color: #0087ff; text-decoration-color: #0087ff\">Dense</span>)                      │ (<span style=\"color: #00d7ff; text-decoration-color: #00d7ff\">None</span>, <span style=\"color: #00af00; text-decoration-color: #00af00\">1</span>)                   │           <span style=\"color: #00af00; text-decoration-color: #00af00\">8,194</span> │\n",
              "└──────────────────────────────────────┴─────────────────────────────┴─────────────────┘\n",
              "</pre>\n"
            ]
          },
          "metadata": {}
        },
        {
          "output_type": "display_data",
          "data": {
            "text/plain": [
              "\u001b[1m Total params: \u001b[0m\u001b[38;5;34m604,151,825\u001b[0m (2.25 GB)\n"
            ],
            "text/html": [
              "<pre style=\"white-space:pre;overflow-x:auto;line-height:normal;font-family:Menlo,'DejaVu Sans Mono',consolas,'Courier New',monospace\"><span style=\"font-weight: bold\"> Total params: </span><span style=\"color: #00af00; text-decoration-color: #00af00\">604,151,825</span> (2.25 GB)\n",
              "</pre>\n"
            ]
          },
          "metadata": {}
        },
        {
          "output_type": "display_data",
          "data": {
            "text/plain": [
              "\u001b[1m Trainable params: \u001b[0m\u001b[38;5;34m201,383,941\u001b[0m (768.22 MB)\n"
            ],
            "text/html": [
              "<pre style=\"white-space:pre;overflow-x:auto;line-height:normal;font-family:Menlo,'DejaVu Sans Mono',consolas,'Courier New',monospace\"><span style=\"font-weight: bold\"> Trainable params: </span><span style=\"color: #00af00; text-decoration-color: #00af00\">201,383,941</span> (768.22 MB)\n",
              "</pre>\n"
            ]
          },
          "metadata": {}
        },
        {
          "output_type": "display_data",
          "data": {
            "text/plain": [
              "\u001b[1m Non-trainable params: \u001b[0m\u001b[38;5;34m0\u001b[0m (0.00 B)\n"
            ],
            "text/html": [
              "<pre style=\"white-space:pre;overflow-x:auto;line-height:normal;font-family:Menlo,'DejaVu Sans Mono',consolas,'Courier New',monospace\"><span style=\"font-weight: bold\"> Non-trainable params: </span><span style=\"color: #00af00; text-decoration-color: #00af00\">0</span> (0.00 B)\n",
              "</pre>\n"
            ]
          },
          "metadata": {}
        },
        {
          "output_type": "display_data",
          "data": {
            "text/plain": [
              "\u001b[1m Optimizer params: \u001b[0m\u001b[38;5;34m402,767,884\u001b[0m (1.50 GB)\n"
            ],
            "text/html": [
              "<pre style=\"white-space:pre;overflow-x:auto;line-height:normal;font-family:Menlo,'DejaVu Sans Mono',consolas,'Courier New',monospace\"><span style=\"font-weight: bold\"> Optimizer params: </span><span style=\"color: #00af00; text-decoration-color: #00af00\">402,767,884</span> (1.50 GB)\n",
              "</pre>\n"
            ]
          },
          "metadata": {}
        }
      ]
    },
    {
      "cell_type": "markdown",
      "source": [
        "###Classificação de uma única imagem"
      ],
      "metadata": {
        "id": "doHmOqYBKC4G"
      }
    },
    {
      "cell_type": "code",
      "source": [
        "x_teste[0], y_teste[0]"
      ],
      "metadata": {
        "colab": {
          "base_uri": "https://localhost:8080/"
        },
        "id": "rdBe1Oe4QGQq",
        "outputId": "135c1e7f-361c-4f24-ea44-afdaf41ad669"
      },
      "execution_count": null,
      "outputs": [
        {
          "output_type": "execute_result",
          "data": {
            "text/plain": [
              "(array([1., 1., 1., ..., 1., 1., 1.]), 0)"
            ]
          },
          "metadata": {},
          "execution_count": 58
        }
      ]
    },
    {
      "cell_type": "code",
      "source": [
        "cv2_imshow(x_teste[0].reshape(128,128))"
      ],
      "metadata": {
        "colab": {
          "base_uri": "https://localhost:8080/",
          "height": 165
        },
        "id": "LdmN2F3_QNYH",
        "outputId": "8c4294a1-061e-4250-db29-cbcdcbaecb3e"
      },
      "execution_count": null,
      "outputs": [
        {
          "output_type": "display_data",
          "data": {
            "text/plain": [
              "<PIL.Image.Image image mode=L size=128x128>"
            ],
            "image/png": "[encoded data removed]",
            "image/jpeg": "[encoded data removed]"
          },
          "metadata": {}
        }
      ]
    },
    {
      "cell_type": "code",
      "source": [
        "imagem_teste = x_teste[34]\n",
        "imagem_teste = scaler.inverse_transform(imagem_teste.reshape(1,-1))"
      ],
      "metadata": {
        "id": "Fih0J8TRQgSD"
      },
      "execution_count": null,
      "outputs": []
    },
    {
      "cell_type": "code",
      "source": [
        "cv2_imshow(imagem_teste.reshape(128,128))"
      ],
      "metadata": {
        "colab": {
          "base_uri": "https://localhost:8080/",
          "height": 165
        },
        "id": "zIl2OYqGQvUz",
        "outputId": "f99ab134-7e87-4507-a2dd-d9d0d5ca0698"
      },
      "execution_count": null,
      "outputs": [
        {
          "output_type": "display_data",
          "data": {
            "text/plain": [
              "<PIL.Image.Image image mode=L size=128x128>"
            ],
            "image/png": "[encoded data removed]",
            "image/jpeg": "[encoded data removed]"
          },
          "metadata": {}
        }
      ]
    },
    {
      "cell_type": "code",
      "source": [
        "network1_loaded.predict(imagem_teste)[0][0]"
      ],
      "metadata": {
        "colab": {
          "base_uri": "https://localhost:8080/"
        },
        "id": "KPek0oInQ146",
        "outputId": "8a89980d-35ec-45aa-ce07-12bb736ec5ab"
      },
      "execution_count": null,
      "outputs": [
        {
          "output_type": "stream",
          "name": "stdout",
          "text": [
            "\u001b[1m1/1\u001b[0m \u001b[32m━━━━━━━━━━━━━━━━━━━━\u001b[0m\u001b[37m\u001b[0m \u001b[1m0s\u001b[0m 15ms/step\n"
          ]
        },
        {
          "output_type": "execute_result",
          "data": {
            "text/plain": [
              "1.0"
            ]
          },
          "metadata": {},
          "execution_count": 68
        }
      ]
    },
    {
      "cell_type": "code",
      "source": [
        "if network1_loaded.predict(imagem_teste)[0][0] < 0.5:\n",
        "  print('Bart')\n",
        "else:\n",
        "  print('Homer')"
      ],
      "metadata": {
        "colab": {
          "base_uri": "https://localhost:8080/"
        },
        "id": "-3kLJPivQ90G",
        "outputId": "8695594c-36de-4499-a1c3-24081368b852"
      },
      "execution_count": null,
      "outputs": [
        {
          "output_type": "stream",
          "name": "stdout",
          "text": [
            "\u001b[1m1/1\u001b[0m \u001b[32m━━━━━━━━━━━━━━━━━━━━\u001b[0m\u001b[37m\u001b[0m \u001b[1m0s\u001b[0m 15ms/step\n",
            "Homer\n"
          ]
        }
      ]
    },
    {
      "cell_type": "markdown",
      "source": [
        "\n",
        "#Extracao de Caracteristica"
      ],
      "metadata": {
        "id": "ty1LBXp6yWnf"
      }
    },
    {
      "cell_type": "markdown",
      "source": [
        "##Extrator de Caracteristicas"
      ],
      "metadata": {
        "id": "_OOEmpH_zqF1"
      }
    },
    {
      "cell_type": "code",
      "source": [
        "arquivos = [os.path.join(diretorio,f) for f in sorted(os.listdir(diretorio))]\n",
        "print(arquivos)"
      ],
      "metadata": {
        "colab": {
          "base_uri": "https://localhost:8080/"
        },
        "id": "ZvFI6UTZzsy0",
        "outputId": "6067bbb6-2572-4766-d93f-1e9ec0db5cd5"
      },
      "execution_count": null,
      "outputs": [
        {
          "output_type": "stream",
          "name": "stdout",
          "text": [
            "['/content/homer_bart_1/.DS_Store', '/content/homer_bart_1/bart1.bmp', '/content/homer_bart_1/bart10.bmp', '/content/homer_bart_1/bart100.bmp', '/content/homer_bart_1/bart101.bmp', '/content/homer_bart_1/bart102.bmp', '/content/homer_bart_1/bart103.bmp', '/content/homer_bart_1/bart104.bmp', '/content/homer_bart_1/bart105.bmp', '/content/homer_bart_1/bart106.bmp', '/content/homer_bart_1/bart108.bmp', '/content/homer_bart_1/bart109.bmp', '/content/homer_bart_1/bart11.bmp', '/content/homer_bart_1/bart110.bmp', '/content/homer_bart_1/bart111.bmp', '/content/homer_bart_1/bart112.bmp', '/content/homer_bart_1/bart113.bmp', '/content/homer_bart_1/bart114.bmp', '/content/homer_bart_1/bart115.bmp', '/content/homer_bart_1/bart116.bmp', '/content/homer_bart_1/bart117.bmp', '/content/homer_bart_1/bart118.bmp', '/content/homer_bart_1/bart119.bmp', '/content/homer_bart_1/bart12.bmp', '/content/homer_bart_1/bart120.bmp', '/content/homer_bart_1/bart121.bmp', '/content/homer_bart_1/bart122.bmp', '/content/homer_bart_1/bart123.bmp', '/content/homer_bart_1/bart124.bmp', '/content/homer_bart_1/bart125.bmp', '/content/homer_bart_1/bart126.bmp', '/content/homer_bart_1/bart127.bmp', '/content/homer_bart_1/bart128.bmp', '/content/homer_bart_1/bart13.bmp', '/content/homer_bart_1/bart130.bmp', '/content/homer_bart_1/bart131.bmp', '/content/homer_bart_1/bart132.bmp', '/content/homer_bart_1/bart133.bmp', '/content/homer_bart_1/bart134.bmp', '/content/homer_bart_1/bart135.bmp', '/content/homer_bart_1/bart136.bmp', '/content/homer_bart_1/bart137.bmp', '/content/homer_bart_1/bart138.bmp', '/content/homer_bart_1/bart139.bmp', '/content/homer_bart_1/bart14.bmp', '/content/homer_bart_1/bart141.bmp', '/content/homer_bart_1/bart142.bmp', '/content/homer_bart_1/bart143.bmp', '/content/homer_bart_1/bart144.bmp', '/content/homer_bart_1/bart145.bmp', '/content/homer_bart_1/bart146.bmp', '/content/homer_bart_1/bart147.bmp', '/content/homer_bart_1/bart148.bmp', '/content/homer_bart_1/bart149.bmp', '/content/homer_bart_1/bart15.bmp', '/content/homer_bart_1/bart150.bmp', '/content/homer_bart_1/bart151.bmp', '/content/homer_bart_1/bart153.bmp', '/content/homer_bart_1/bart154.bmp', '/content/homer_bart_1/bart155.bmp', '/content/homer_bart_1/bart156.bmp', '/content/homer_bart_1/bart157.bmp', '/content/homer_bart_1/bart158.bmp', '/content/homer_bart_1/bart159.bmp', '/content/homer_bart_1/bart16.bmp', '/content/homer_bart_1/bart160.bmp', '/content/homer_bart_1/bart161.bmp', '/content/homer_bart_1/bart162.bmp', '/content/homer_bart_1/bart164.bmp', '/content/homer_bart_1/bart165.bmp', '/content/homer_bart_1/bart166.bmp', '/content/homer_bart_1/bart167.bmp', '/content/homer_bart_1/bart168.bmp', '/content/homer_bart_1/bart169.bmp', '/content/homer_bart_1/bart17.bmp', '/content/homer_bart_1/bart18.bmp', '/content/homer_bart_1/bart19.bmp', '/content/homer_bart_1/bart2.bmp', '/content/homer_bart_1/bart20.bmp', '/content/homer_bart_1/bart21.bmp', '/content/homer_bart_1/bart22.bmp', '/content/homer_bart_1/bart23.bmp', '/content/homer_bart_1/bart24.bmp', '/content/homer_bart_1/bart25.bmp', '/content/homer_bart_1/bart26.bmp', '/content/homer_bart_1/bart27.bmp', '/content/homer_bart_1/bart28.bmp', '/content/homer_bart_1/bart29.bmp', '/content/homer_bart_1/bart3.bmp', '/content/homer_bart_1/bart30.bmp', '/content/homer_bart_1/bart31.bmp', '/content/homer_bart_1/bart32.bmp', '/content/homer_bart_1/bart34.bmp', '/content/homer_bart_1/bart35.bmp', '/content/homer_bart_1/bart36.bmp', '/content/homer_bart_1/bart37.bmp', '/content/homer_bart_1/bart38.bmp', '/content/homer_bart_1/bart39.bmp', '/content/homer_bart_1/bart4.bmp', '/content/homer_bart_1/bart40.bmp', '/content/homer_bart_1/bart42.bmp', '/content/homer_bart_1/bart43.bmp', '/content/homer_bart_1/bart44.bmp', '/content/homer_bart_1/bart45.bmp', '/content/homer_bart_1/bart46.bmp', '/content/homer_bart_1/bart47.bmp', '/content/homer_bart_1/bart48.bmp', '/content/homer_bart_1/bart49.bmp', '/content/homer_bart_1/bart5.bmp', '/content/homer_bart_1/bart50.bmp', '/content/homer_bart_1/bart51.bmp', '/content/homer_bart_1/bart52.bmp', '/content/homer_bart_1/bart53.bmp', '/content/homer_bart_1/bart54.bmp', '/content/homer_bart_1/bart55.bmp', '/content/homer_bart_1/bart56.bmp', '/content/homer_bart_1/bart57.bmp', '/content/homer_bart_1/bart58.bmp', '/content/homer_bart_1/bart59.bmp', '/content/homer_bart_1/bart6.bmp', '/content/homer_bart_1/bart60.bmp', '/content/homer_bart_1/bart61.bmp', '/content/homer_bart_1/bart62.bmp', '/content/homer_bart_1/bart63.bmp', '/content/homer_bart_1/bart64.bmp', '/content/homer_bart_1/bart65.bmp', '/content/homer_bart_1/bart66.bmp', '/content/homer_bart_1/bart67.bmp', '/content/homer_bart_1/bart68.bmp', '/content/homer_bart_1/bart69.bmp', '/content/homer_bart_1/bart7.bmp', '/content/homer_bart_1/bart70.bmp', '/content/homer_bart_1/bart71.bmp', '/content/homer_bart_1/bart72.bmp', '/content/homer_bart_1/bart73.bmp', '/content/homer_bart_1/bart74.bmp', '/content/homer_bart_1/bart75.bmp', '/content/homer_bart_1/bart76.bmp', '/content/homer_bart_1/bart77.bmp', '/content/homer_bart_1/bart79.bmp', '/content/homer_bart_1/bart8.bmp', '/content/homer_bart_1/bart80.bmp', '/content/homer_bart_1/bart81.bmp', '/content/homer_bart_1/bart82.bmp', '/content/homer_bart_1/bart83.bmp', '/content/homer_bart_1/bart84.bmp', '/content/homer_bart_1/bart85.bmp', '/content/homer_bart_1/bart86.bmp', '/content/homer_bart_1/bart87.bmp', '/content/homer_bart_1/bart89.bmp', '/content/homer_bart_1/bart9.bmp', '/content/homer_bart_1/bart90.bmp', '/content/homer_bart_1/bart91.bmp', '/content/homer_bart_1/bart92.bmp', '/content/homer_bart_1/bart93.bmp', '/content/homer_bart_1/bart94.bmp', '/content/homer_bart_1/bart95.bmp', '/content/homer_bart_1/bart96.bmp', '/content/homer_bart_1/bart97.bmp', '/content/homer_bart_1/bart98.bmp', '/content/homer_bart_1/bart99.bmp', '/content/homer_bart_1/homer1.bmp', '/content/homer_bart_1/homer10.bmp', '/content/homer_bart_1/homer100.bmp', '/content/homer_bart_1/homer101.bmp', '/content/homer_bart_1/homer102.bmp', '/content/homer_bart_1/homer103.bmp', '/content/homer_bart_1/homer104.bmp', '/content/homer_bart_1/homer105.bmp', '/content/homer_bart_1/homer106.bmp', '/content/homer_bart_1/homer107.bmp', '/content/homer_bart_1/homer109.bmp', '/content/homer_bart_1/homer110.bmp', '/content/homer_bart_1/homer112.bmp', '/content/homer_bart_1/homer113.bmp', '/content/homer_bart_1/homer115.bmp', '/content/homer_bart_1/homer116.bmp', '/content/homer_bart_1/homer117.bmp', '/content/homer_bart_1/homer119.bmp', '/content/homer_bart_1/homer120.bmp', '/content/homer_bart_1/homer121.bmp', '/content/homer_bart_1/homer122.bmp', '/content/homer_bart_1/homer123.bmp', '/content/homer_bart_1/homer124.bmp', '/content/homer_bart_1/homer13.bmp', '/content/homer_bart_1/homer14.bmp', '/content/homer_bart_1/homer15.bmp', '/content/homer_bart_1/homer16.bmp', '/content/homer_bart_1/homer17.bmp', '/content/homer_bart_1/homer18.bmp', '/content/homer_bart_1/homer2.bmp', '/content/homer_bart_1/homer20.bmp', '/content/homer_bart_1/homer21.bmp', '/content/homer_bart_1/homer22.bmp', '/content/homer_bart_1/homer23.bmp', '/content/homer_bart_1/homer24.bmp', '/content/homer_bart_1/homer26.bmp', '/content/homer_bart_1/homer27.bmp', '/content/homer_bart_1/homer28.bmp', '/content/homer_bart_1/homer29.bmp', '/content/homer_bart_1/homer3.bmp', '/content/homer_bart_1/homer30.bmp', '/content/homer_bart_1/homer31.bmp', '/content/homer_bart_1/homer32.bmp', '/content/homer_bart_1/homer33.bmp', '/content/homer_bart_1/homer34.bmp', '/content/homer_bart_1/homer35.bmp', '/content/homer_bart_1/homer36.bmp', '/content/homer_bart_1/homer37.bmp', '/content/homer_bart_1/homer38.bmp', '/content/homer_bart_1/homer4.bmp', '/content/homer_bart_1/homer40.bmp', '/content/homer_bart_1/homer41.bmp', '/content/homer_bart_1/homer43.bmp', '/content/homer_bart_1/homer44.bmp', '/content/homer_bart_1/homer45.bmp', '/content/homer_bart_1/homer46.bmp', '/content/homer_bart_1/homer47.bmp', '/content/homer_bart_1/homer48.bmp', '/content/homer_bart_1/homer49.bmp', '/content/homer_bart_1/homer5.bmp', '/content/homer_bart_1/homer50.bmp', '/content/homer_bart_1/homer51.bmp', '/content/homer_bart_1/homer52.bmp', '/content/homer_bart_1/homer54.bmp', '/content/homer_bart_1/homer55.bmp', '/content/homer_bart_1/homer56.bmp', '/content/homer_bart_1/homer57.bmp', '/content/homer_bart_1/homer58.bmp', '/content/homer_bart_1/homer59.bmp', '/content/homer_bart_1/homer6.bmp', '/content/homer_bart_1/homer60.bmp', '/content/homer_bart_1/homer61.bmp', '/content/homer_bart_1/homer62.bmp', '/content/homer_bart_1/homer63.bmp', '/content/homer_bart_1/homer65.bmp', '/content/homer_bart_1/homer66.bmp', '/content/homer_bart_1/homer68.bmp', '/content/homer_bart_1/homer69.bmp', '/content/homer_bart_1/homer7.bmp', '/content/homer_bart_1/homer70.bmp', '/content/homer_bart_1/homer71.bmp', '/content/homer_bart_1/homer72.bmp', '/content/homer_bart_1/homer73.bmp', '/content/homer_bart_1/homer74.bmp', '/content/homer_bart_1/homer75.bmp', '/content/homer_bart_1/homer76.bmp', '/content/homer_bart_1/homer77.bmp', '/content/homer_bart_1/homer78.bmp', '/content/homer_bart_1/homer79.bmp', '/content/homer_bart_1/homer8.bmp', '/content/homer_bart_1/homer80.bmp', '/content/homer_bart_1/homer81.bmp', '/content/homer_bart_1/homer82.bmp', '/content/homer_bart_1/homer83.bmp', '/content/homer_bart_1/homer84.bmp', '/content/homer_bart_1/homer85.bmp', '/content/homer_bart_1/homer86.bmp', '/content/homer_bart_1/homer87.bmp', '/content/homer_bart_1/homer9.bmp', '/content/homer_bart_1/homer90.bmp', '/content/homer_bart_1/homer91.bmp', '/content/homer_bart_1/homer92.bmp', '/content/homer_bart_1/homer93.bmp', '/content/homer_bart_1/homer94.bmp', '/content/homer_bart_1/homer95.bmp', '/content/homer_bart_1/homer96.bmp', '/content/homer_bart_1/homer97.bmp', '/content/homer_bart_1/homer98.bmp', '/content/homer_bart_1/homer99.bmp']\n"
          ]
        }
      ]
    },
    {
      "cell_type": "code",
      "source": [
        "export = 'boca,calca,sapatos,camisa,calcao,tenis,class\\n'"
      ],
      "metadata": {
        "id": "UlhO-7BO0uAm"
      },
      "execution_count": 50,
      "outputs": []
    },
    {
      "cell_type": "code",
      "source": [
        "mostrar_imagens = False\n",
        "caracteristicas = []"
      ],
      "metadata": {
        "id": "cSGXZuW_1KUe"
      },
      "execution_count": 51,
      "outputs": []
    },
    {
      "cell_type": "code",
      "source": [
        "for imagem_caminho in arquivos:\n",
        "  try:\n",
        "    imagem_original = cv2.imread(imagem_caminho)\n",
        "    (h,w) = imagem_original.shape[:2]\n",
        "  except:\n",
        "    continue\n",
        "  imagem_alterada = imagem_original.copy()\n",
        "  imagem_caracteristicas = []\n",
        "  imagem_nome = os.path.basename(os.path.normpath(imagem_caminho))\n",
        "  boca = calca = sapato = 0\n",
        "  camisa = calcao = tenis = 0\n",
        "\n",
        "  if imagem_nome.startswith('b'):\n",
        "    classe = 0\n",
        "  else:\n",
        "    classe = 1\n",
        "\n",
        "  for altura in range(0,h):\n",
        "    for largura in range(0,w):\n",
        "      azul = imagem_alterada.item(altura,largura,0)\n",
        "      verde = imagem_alterada.item(altura,largura,1)\n",
        "      vermelho = imagem_alterada.item(altura,largura,2)\n",
        "\n",
        "      # Homer - Boca\n",
        "      if(azul >= 95 and azul <= 140 and verde >= 160 and verde <= 185 and vermelho >= 175 and vermelho <= 205):\n",
        "        imagem_alterada[altura, largura] = [0,255,255]\n",
        "        boca += 1\n",
        "\n",
        "      # Homer - Calca\n",
        "      if(azul >= 150 and azul <= 180 and verde >= 98 and verde <= 120 and vermelho >= 0 and vermelho <= 90):\n",
        "        imagem_alterada[altura, largura] = [255,0,255]\n",
        "        calca += 1\n",
        "\n",
        "      # Homer - Sapato\n",
        "      if altura > (h / 2):\n",
        "        if(azul >= 25 and azul <= 45 and verde >= 25 and verde <= 45 and vermelho >= 25 and vermelho <= 45):\n",
        "          imagem_alterada[altura, largura] = [255,255,0]\n",
        "          sapato += 1\n",
        "\n",
        "      # Bart - Camisa\n",
        "      if(azul >= 11 and azul <= 22 and verde >= 85 and verde <= 105 and vermelho >= 240 and vermelho <= 255):\n",
        "        imagem_alterada[altura, largura] = [0,255,128]\n",
        "        camisa += 1\n",
        "\n",
        "      # Bart - Calcao\n",
        "      if(azul >= 125 and azul <= 170 and verde >= 0 and verde <= 12 and vermelho >= 0 and vermelho <= 20):\n",
        "        imagem_alterada[altura, largura] = [128,0,255]\n",
        "        calcao += 1\n",
        "\n",
        "      # Bart - Tenis\n",
        "      if altura > (h / 2):\n",
        "        if(azul >= 125 and azul <= 170 and verde >= 0 and verde <= 12 and vermelho >= 0 and vermelho <= 20):\n",
        "          imagem_alterada[altura, largura] = [255,128,0]\n",
        "          tenis += 1\n",
        "\n",
        "  boca = round((boca / (h*w)) * 100, 9)\n",
        "  calca = round((calca / (h*w)) * 100, 9)\n",
        "  sapato = round((sapato / (h*w)) * 100, 9)\n",
        "\n",
        "  camisa = round((camisa / (h*w)) * 100, 9)\n",
        "  calcao = round((calcao / (h*w)) * 100, 9)\n",
        "  tenis = round((tenis / (h*w)) * 100, 9)\n",
        "\n",
        "  imagem_caracteristicas.append(boca)\n",
        "  imagem_caracteristicas.append(calca)\n",
        "  imagem_caracteristicas.append(sapato)\n",
        "\n",
        "  imagem_caracteristicas.append(camisa)\n",
        "  imagem_caracteristicas.append(calcao)\n",
        "  imagem_caracteristicas.append(tenis)\n",
        "  imagem_caracteristicas.append(classe)\n",
        "\n",
        "\n",
        "  caracteristicas.append(imagem_caracteristicas)\n",
        "\n",
        "  # print('Homer boca: ', imagem_caracteristicas[0],'Homer Calca: ', imagem_caracteristicas[1],'Homer Sapato: ', imagem_caracteristicas[2])\n",
        "  # print('Bart camisa: ', imagem_caracteristicas[3],'Bart calcao: ', imagem_caracteristicas[4],'Bart tenis: ', imagem_caracteristicas[5])\n",
        "\n",
        "  f = (','.join([str(item) for item in imagem_caracteristicas]))\n",
        "  export += f + '\\n'\n",
        "\n",
        "  if mostrar_imagens:\n",
        "    imagem_alterada = cv2.cvtColor(imagem_alterada, cv2.COLOR_BGR2RGB)\n",
        "    imagem_original = cv2.cvtColor(imagem_original, cv2.COLOR_BGR2RGB)\n",
        "    figura, im = plt.subplots(1,2)\n",
        "    im[0].imshow(imagem_original)\n",
        "    im[0].axis('off')\n",
        "    im[1].imshow(imagem_alterada)\n",
        "    im[1].axis('off')\n",
        "\n",
        "    plt.show()\n"
      ],
      "metadata": {
        "collapsed": true,
        "id": "oNyiZFSG1Q7F"
      },
      "execution_count": 52,
      "outputs": []
    },
    {
      "cell_type": "code",
      "source": [
        "export"
      ],
      "metadata": {
        "colab": {
          "base_uri": "https://localhost:8080/",
          "height": 179
        },
        "id": "0CwUEqLn_IsV",
        "outputId": "34703051-ea2b-4257-96b1-8361e5abbc8e"
      },
      "execution_count": 53,
      "outputs": [
        {
          "output_type": "execute_result",
          "data": {
            "text/plain": [
              "'boca,calca,sapatos,camisa,calcao,tenis,class\\n0.0,0.0,0.114799225,6.886101887,3.495204355,3.495204355,0\\n0.0,0.0,0.11007847,5.004901113,3.183888705,3.183888705,0\\n0.0,0.0,0.182518631,5.264620437,5.029682961,5.029682961,0\\n0.0,0.480168257,0.080028043,0.0,0.0,0.0,0\\n0.0,0.0,0.029707562,8.978929368,3.459119497,3.459119497,0\\n0.0,0.0,0.053304904,6.75432362,0.948827292,0.948827292,0\\n0.249585206,0.0,0.019853369,9.693407263,4.104683977,4.104683977,0\\n0.0,0.0,0.181208054,0.0,0.0,0.0,0\\n0.0,0.0,0.148868778,0.0,0.0,0.0,0\\n0.0,0.0,0.114762211,9.594752524,7.522715548,7.522715548,0\\n0.0,0.0,0.138655462,0.0,0.0,0.0,0\\n0.0,0.0,0.02400947,19.545383481,0.0,0.0,0\\n0.00307645,0.0,0.0,6.495154592,5.599138594,5.599138594,0\\n0.001317263,0.0,0.087817515,0.0,0.0,0.0,0\\n0.0,0.0,0.032184591,8.395721925,0.0,0.0,0\\n0.02105732,0.0,0.008503918,8.915750471,0.0,0.0,0\\n0.0,0.0,0.081055114,11.095816228,4.525111363,4.525111363,0\\n0.0,0.0,0.08757526,10.443349754,3.183296307,3.183296307,0\\n0.0,0.0,0.043806812,9.497408097,0.0,0.0,0\\n0.0,0.0,0.141247989,4.750581083,3.600482746,3.600482746,0\\n0.0,0.010463297,0.391691233,7.430305346,0.0,0.0,0\\n0.0,0.0,0.145441759,12.530766526,2.373417722,2.373417722,0\\n0.0,0.0,0.298828743,11.88730611,6.866729978,6.866729978,0\\n0.0,0.0,0.110318564,2.206749078,3.37340567,0.0,0\\n0.0,0.0,0.083622139,0.0,0.0,0.0,0\\n0.0,0.0,0.069784112,9.781371226,6.301652893,6.301652893,0\\n0.0,0.0,0.088388486,4.322113293,5.937642899,5.937642899,0\\n0.0,0.0,0.144211187,0.0,0.0,0.0,0\\n0.07,0.0,0.344285714,0.0,0.0,0.0,0\\n0.0,0.0,0.07980941,11.305241215,7.723942823,7.723942823,0\\n0.0,0.0,0.379403794,0.0,0.0,0.0,0\\n0.0,0.0,0.090175198,11.35992786,0.0,0.0,0\\n0.0,0.0,0.084393721,5.738773012,3.398924308,3.398924308,0\\n0.0,0.0,0.162677013,5.02834647,0.0,0.0,0\\n0.0,0.0,0.050130084,0.0,2.312329463,1.435370265,0\\n0.000832432,0.0,0.198951136,16.896695247,1.144593357,1.144593357,0\\n0.0,0.0,0.108054523,13.608921933,0.269640644,0.269640644,0\\n0.057218819,0.0,0.082649405,7.449427812,0.0,0.0,0\\n0.0,0.0,0.065466448,7.435477779,1.739896764,1.739896764,0\\n0.0,0.0,0.076230076,3.805959806,2.272349272,2.272349272,0\\n0.0,0.0,0.05304784,4.813762626,5.155285494,5.155285494,0\\n0.0,0.0,0.057656907,10.597756243,0.0,0.0,0\\n0.0,0.0,4.180478037,7.972817519,0.0,0.0,0\\n0.0,0.0,0.166613773,5.126150428,7.112821327,7.112821327,0\\n0.0,0.0,0.108311229,0.0,18.927203065,17.73135868,0\\n0.0,0.0,0.13699873,3.036351539,1.797919313,1.797919313,0\\n0.0,0.0,0.086580087,8.149012446,2.357954545,2.357954545,0\\n0.0,0.0,0.151135698,13.635152613,5.732015094,5.732015094,0\\n0.0,0.0,0.183020488,9.865659541,3.991215017,3.991215017,0\\n0.0,0.0,0.126150813,2.49238361,6.490779573,6.03685943,0\\n0.0,0.0,0.152807573,4.91155038,2.840773658,2.840773658,0\\n0.0,0.0,0.0,1.187012385,1.807232793,1.807232793,0\\n0.0,0.0,0.02433848,8.855312603,0.0,0.0,0\\n2.452787678,0.0,0.068104543,4.658248331,3.879910696,3.879910696,0\\n0.0,0.0,0.0,0.0,0.0,0.0,0\\n0.002290583,0.0,0.0,6.528926251,0.0,0.0,0\\n0.0,0.0,0.056179775,12.13282504,0.0,0.0,0\\n0.000888889,0.0,0.094222222,5.550222222,0.0,0.0,0\\n0.0,0.0,0.0,2.704001299,2.038146254,0.849606363,0\\n0.0,0.0,0.078947368,0.484892788,1.314814815,1.314814815,0\\n0.129449838,0.0,0.220989367,3.006010171,1.178455848,1.178455848,0\\n0.0,0.0,0.0,2.278061846,3.270189108,3.270189108,0\\n0.0,0.0,0.048163557,3.585693763,4.931366932,4.931366932,0\\n0.0,0.0,0.580333855,0.721749478,0.737235915,0.0,0\\n0.0,0.0,0.156095181,4.259996037,4.505419125,4.505419125,0\\n0.0,0.0,0.113855066,9.469978468,5.73372206,5.73372206,0\\n0.0,0.0,0.112589904,5.532449419,7.887174834,7.887174834,0\\n0.0,0.0,0.101010101,10.84387737,0.0,0.0,0\\n0.0,0.0,0.130730051,2.291680815,2.954499151,2.095755518,0\\n0.0,0.0,0.084417626,6.410571154,4.413835877,4.413835877,0\\n0.072235674,0.0,0.0,3.773204197,1.920500404,1.920500404,0\\n0.0,0.0,0.095862315,6.44172463,5.603486713,5.603486713,0\\n0.0,0.079648273,0.713011342,3.013253473,1.752262011,1.752262011,0\\n0.0,0.0,0.077600637,17.164367088,0.0,0.0,0\\n0.0,0.0,0.138044446,0.0,0.0,0.0,0\\n0.256359764,0.0,1.935279188,2.087344653,0.331116168,0.0189626,0\\n0.0,0.0,0.306571323,3.656376567,4.276107978,4.276107978,0\\n0.0,0.0,0.182729644,0.0,0.0,0.0,0\\n0.0,0.035811365,0.081114898,8.256461147,0.0,0.0,0\\n0.0,0.0,0.063650201,0.0,0.0,0.0,0\\n0.0,0.0,0.15935811,8.37577311,7.56728144,7.56728144,0\\n0.0,0.0,0.127103473,6.08575009,0.998925886,0.957303974,0\\n0.0,0.21020082,0.12724967,2.054235286,1.480091724,1.480091724,0\\n0.0,0.0,0.067023482,6.311297555,0.0,0.0,0\\n0.0,0.0,0.089739311,8.347980866,8.240442022,8.240442022,0\\n0.0,0.0,0.06409324,0.0,0.0,0.0,0\\n0.0,0.0,0.059352518,9.928507194,0.0,0.0,0\\n0.620192308,0.0,0.151442308,5.380608974,4.139423077,4.139423077,0\\n0.0,0.020169769,0.169082748,0.0,2.887281029,2.887281029,0\\n0.0,0.022174372,0.075276158,0.0,0.0,0.0,0\\n0.0,0.0,0.088223514,5.356195672,4.325658429,4.325658429,0\\n0.0,0.0,0.036128255,0.0,14.04862261,7.565858799,0\\n4.469270958,0.0,0.048356864,0.0,0.0,0.0,0\\n0.0,0.0,0.515769828,3.451480154,3.807950898,3.313264772,0\\n0.003738178,0.0,0.20746888,0.0,3.104556839,3.104556839,0\\n0.0,0.0,0.119900917,1.333403605,1.42563508,1.42563508,0\\n0.016800478,0.0,0.029723923,3.016978176,2.22412484,2.22412484,0\\n0.0,0.0,0.038138825,9.655055513,0.0,0.0,0\\n0.002855457,0.004283185,0.047115037,10.154480212,0.0,0.0,0\\n0.0,0.0,0.0,4.442616207,1.551764881,1.551764881,0\\n0.0,0.0,0.0,8.667226891,3.921848739,3.921848739,0\\n0.0,0.0,0.0,8.113564866,5.822234048,5.822234048,0\\n0.0,0.0,0.11212159,6.242393461,0.0,0.0,0\\n0.0,0.0,0.594795539,0.0,14.857215275,6.850287259,0\\n0.001554726,0.047419154,0.359919154,0.0,1.773165423,1.773165423,0\\n0.0,0.0,0.12787018,0.000919929,0.025758022,0.022998234,0\\n4.469270958,0.0,0.048356864,0.0,0.0,0.0,0\\n0.0,0.031103271,0.095440175,0.0,0.0,0.0,0\\n0.0,0.0,0.096296296,0.0,0.0,0.0,0\\n0.0,0.0,0.030959752,2.493227554,0.86880805,0.86880805,0\\n0.0,0.0,0.315630575,0.0,0.091487123,0.091487123,0\\n0.082892416,0.0,0.0,8.386243386,5.733686067,5.733686067,0\\n0.028748341,0.0,0.314020345,0.0,0.0,0.0,0\\n0.004464286,0.080357143,0.046875,0.064732143,0.0,0.0,0\\n0.0,0.0,0.162836426,0.0,0.0,0.0,0\\n0.02761668,0.0,0.047342881,0.0,0.0,0.0,0\\n0.002855457,0.004283185,0.047115037,10.154480212,0.0,0.0,0\\n0.0,0.0,0.0,11.901625849,0.436989778,0.436989778,0\\n0.0,0.0,0.06820873,0.0,7.009674726,7.009674726,0\\n0.0,0.0,0.0,2.423072216,3.600614606,1.095957467,0\\n0.0,0.0,0.048370171,0.0,0.0,0.0,0\\n0.046402056,0.0,0.0,0.0,0.0,0.0,0\\n0.0,0.0,0.125109894,0.0,0.0,0.0,0\\n0.0,0.0,0.495459566,12.964780955,0.997054853,0.026076819,0\\n0.024496995,0.0,0.169029266,3.695779984,0.013065064,0.004082833,0\\n0.126262626,0.0,0.089031339,0.178062678,0.0,0.0,0\\n0.0,0.0,0.342702852,4.158589495,1.07887935,1.07887935,0\\n0.0,0.0,0.009876543,0.540740741,3.417283951,3.417283951,0\\n0.0,0.0,0.093454492,7.286125887,5.362736407,5.362736407,0\\n0.001013274,0.061809707,0.194548586,4.348971527,4.550613031,4.550613031,0\\n0.0,0.0,0.069741492,12.124170851,0.0,0.0,0\\n0.0,0.0,0.173299101,8.090500642,0.118741977,0.118741977,0\\n0.040761598,0.0,0.562080987,2.018771789,0.0,0.0,0\\n0.0,0.0,0.0,8.474266319,5.609766802,5.609766802,0\\n0.0,0.076864807,0.0,0.0,0.0,0.0,0\\n0.0,0.0,0.366119137,3.460815357,0.0,0.0,0\\n0.0,0.0,0.235437937,10.429447853,0.0,0.0,0\\n0.0,0.0,0.694371751,0.0,0.0,0.0,0\\n0.039284559,0.0,0.233396497,8.228959652,6.133012895,6.133012895,0\\n0.0,0.0,0.101015515,5.829625995,2.764938958,2.764938958,0\\n0.0,0.0,0.1,0.0,0.0,0.0,0\\n0.0,0.0,0.140763817,1.193031037,0.0,0.0,0\\n0.0,0.0,0.137115161,4.095916838,0.0,0.0,0\\n0.0,0.0,0.076660132,9.58125974,6.173025687,6.173025687,0\\n0.0,0.0,0.101961416,2.589283319,0.0,0.0,0\\n0.001549451,0.0,0.32228575,4.400440044,0.0,0.0,0\\n0.0,0.0,0.49909064,6.990894315,4.090005498,4.090005498,0\\n0.0,0.0,0.122647849,0.0,0.0,0.0,0\\n0.0,0.0,0.145933977,0.0,0.0,0.0,0\\n0.0,0.0,0.179773057,7.88857369,5.175484892,5.175484892,0\\n0.00265769,0.0,0.024805103,0.0,0.0,0.0,0\\n0.0,0.0,0.159848485,0.0,0.0,0.0,0\\n0.002906977,0.0,0.149418605,6.029651163,0.0,0.0,0\\n0.0,0.0,0.701011074,3.420959718,0.0,0.0,0\\n0.0,0.0,0.3986195,0.0,0.0,0.0,0\\n0.006931208,0.0,0.072777682,0.0,0.0,0.0,0\\n0.001619433,0.0,0.136842105,9.861538462,8.660728745,8.660728745,0\\n0.0,0.0,0.058479532,4.980506823,0.072124756,0.0,0\\n0.0,0.0,0.167883747,9.668452534,1.034365711,1.034365711,0\\n0.0,0.0,0.041262818,10.734478157,5.981352718,5.981352718,0\\n0.979401078,16.958948664,2.404184248,2.48769339,0.0,0.0,1\\n0.058665773,15.566543748,0.64867583,0.0,0.0,0.0,1\\n1.829063147,14.074792961,2.1875,0.0,0.0,0.0,1\\n2.804717308,0.152271939,0.107180021,0.0,0.0,0.0,1\\n2.510348847,0.0,0.133630737,0.0,0.0,0.0,1\\n0.0,0.0,0.222503718,0.0,0.0,0.0,1\\n6.507196996,0.0,0.175231208,0.0,0.0,0.0,1\\n4.677915738,0.0,0.293961583,0.0,0.0,0.0,1\\n3.118380316,0.0,0.300431807,0.0,0.0,0.0,1\\n4.06671025,0.0,0.150645216,0.0,0.0,0.0,1\\n0.0,0.0,1.19478171,0.0,0.0,0.0,1\\n3.195100354,0.0,0.380755608,0.0,0.0,0.0,1\\n0.355610904,7.673539043,0.158664268,0.275356303,0.0,0.0,1\\n0.663501119,4.680165379,0.034754821,0.0,0.0,0.0,1\\n0.501514993,5.802685195,2.626423571,0.0,0.0,0.0,1\\n1.448672089,3.566102811,0.060380396,0.0,0.0,0.0,1\\n0.858062038,0.0,0.229520791,0.0,0.0,0.0,1\\n2.046468542,4.588248639,0.060496068,0.0,0.0,0.0,1\\n5.3241237,0.0,0.083744238,0.0,0.0,0.0,1\\n3.059849386,21.512485137,4.97238737,0.0,0.0,0.0,1\\n1.87017211,19.164520938,1.432443421,0.0,0.0,0.0,1\\n1.181676162,6.996385642,0.0,0.0,0.0,0.0,1\\n1.657903494,0.0,0.071214642,0.0,0.0,0.0,1\\n1.375206612,14.950413223,1.574380165,0.0,0.0,0.0,1\\n2.107477925,32.308912804,0.172461369,0.0,0.0,0.0,1\\n0.480936756,0.0,0.095098438,0.0,0.0,0.0,1\\n1.405737574,0.084906762,0.102418781,0.0,0.0,0.0,1\\n1.429483853,0.0,0.112570356,0.0,0.0,0.0,1\\n1.623553703,13.843546691,1.437531653,0.0,0.0,0.0,1\\n4.966005609,0.0,0.10440414,0.0,0.0,0.0,1\\n1.365418968,12.872923639,1.497854342,0.0,0.0,0.0,1\\n1.475956065,10.607126113,0.0,0.0,0.0,0.0,1\\n2.580283794,13.434466019,1.690627334,0.0,0.0,0.0,1\\n1.208582988,13.390433758,1.592026425,0.0,0.0,0.0,1\\n0.308702684,9.513506425,0.713021243,0.0,0.0,0.0,1\\n2.111849548,0.273614253,0.134332579,0.0,0.0,0.0,1\\n0.312468394,0.187906888,0.0,0.0,0.0,0.0,1\\n1.699590092,3.907748997,0.0,0.0,0.0,0.0,1\\n1.261645963,0.046760305,0.044995765,0.0,0.0,0.0,1\\n4.183953033,0.0,0.129158513,0.0,0.0,0.0,1\\n0.67707459,16.612575308,0.0,0.0,0.0,0.0,1\\n7.688952498,0.0,0.069515437,0.0,0.0,0.0,1\\n0.0,0.063628651,0.0,0.0,0.0,0.0,1\\n0.0,0.039908211,0.633542851,0.0,0.0,0.0,1\\n0.0,0.024797844,0.201617251,0.0,0.0,0.0,1\\n0.092525727,0.178281278,0.146687128,0.0,0.0,0.0,1\\n0.028179839,11.469194313,0.174202639,0.0,0.0,0.0,1\\n0.491803279,0.0,0.195081967,0.0,0.0,0.0,1\\n0.38342137,0.0,0.076452599,0.0,0.0,0.0,1\\n1.085376162,8.202874049,0.22541561,0.0,0.0,0.0,1\\n0.171596238,7.372088758,0.192554557,0.0,0.0,0.0,1\\n0.078528726,8.650825818,0.196321816,0.525635829,0.0,0.0,1\\n0.070499893,9.101044382,0.226255472,0.0,0.0,0.0,1\\n0.018296095,0.0,0.128072668,0.0,0.0,0.0,1\\n0.072990481,0.0,0.0304127,0.0,0.0,0.0,1\\n0.039355119,0.0,0.176419498,0.0,0.0,0.0,1\\n0.028068487,0.0,0.0,0.0,0.0,0.0,1\\n1.207367796,0.007130125,0.411170529,0.0,0.0,0.0,1\\n0.0,0.0,0.195828012,0.0,0.0,0.0,1\\n0.660317686,0.0,0.0,0.0,0.0,0.0,1\\n0.0,0.155041727,0.140366996,0.0,0.0,0.0,1\\n0.058665773,15.566543748,0.64867583,0.0,0.0,0.0,1\\n0.058696928,0.052827235,0.138916063,0.0,0.0,0.0,1\\n0.516451479,0.00666389,0.0,0.0,0.0,0.0,1\\n0.112978525,0.0,0.253034547,0.0,0.0,0.0,1\\n1.401824597,2.311739089,0.178804158,0.0,0.0,0.0,1\\n0.051243533,0.0,0.036502243,0.0,0.0,0.0,1\\n1.619217082,0.0,0.15658363,0.0,0.0,0.0,1\\n1.242105263,0.0,0.114127424,0.0,0.0,0.0,1\\n1.862687235,8.791415663,0.221833279,0.0,0.0,0.0,1\\n0.171260997,5.309090909,0.127859238,0.0,0.0,0.0,1\\n0.842998586,11.237623762,0.178217822,0.0,0.0,0.0,1\\n2.599648343,0.0,0.170742694,0.0,0.0,0.0,1\\n0.023988486,0.0,0.011423088,0.0,0.0,0.0,1\\n0.120609675,0.0,0.096090126,0.0,0.0,0.0,1\\n0.42369338,0.0,1.361207898,0.0,0.0,0.0,1\\n0.773406766,7.593233674,0.0,0.0,0.0,0.0,1\\n0.0,0.0,0.143328579,0.0,0.0,0.0,1\\n0.942271339,9.738548786,0.077940963,0.0,0.0,0.0,1\\n0.087450238,0.024146708,0.274097762,0.0,0.0,0.0,1\\n8.468309859,0.0,0.278755869,0.0,0.0,0.0,1\\n0.462344029,0.325868984,0.182895128,0.0,0.0,0.0,1\\n0.258885898,4.702521562,0.315195297,0.0,0.0,0.0,1\\n0.291149711,0.0,0.127377998,0.0,0.0,0.0,1\\n0.902278636,0.0,0.102879228,0.0,0.0,0.0,1\\n0.000558659,0.0,0.094413408,0.0,0.0,0.0,1\\n1.954776665,12.935145446,0.020664441,0.0,0.0,0.0,1\\n2.836879433,0.0,0.166272656,0.0,0.0,0.0,1\\n1.765465465,0.0,0.221021021,0.077177177,0.0,0.0,1\\n3.856391115,0.001529707,0.10402007,0.0,0.0,0.0,1\\n3.52862254,0.0,0.154541841,0.0,0.0,0.0,1\\n1.630342605,11.98906038,0.136391904,0.0,0.0,0.0,1\\n6.814814815,0.0,0.086140439,0.0,0.0,0.0,1\\n7.385644191,0.0,0.11119025,0.0,0.0,0.0,1\\n1.684732624,1.178557351,0.141242938,0.0,0.0,0.0,1\\n1.587927248,0.0,0.270285489,0.0,0.0,0.0,1\\n9.431089476,0.0,0.148923638,0.0,0.0,0.0,1\\n3.25017819,0.0,0.334348474,0.0,0.0,0.0,1\\n0.752833109,10.047759306,1.163529862,0.0,0.0,0.0,1\\n0.0,0.017687075,0.18877551,0.0,0.0,0.0,1\\n0.0,0.0,0.103598232,0.0,0.0,0.0,1\\n0.0,0.0,1.157139824,0.0,0.0,0.0,1\\n0.0,0.0,0.021648145,0.0,0.0,0.0,1\\n0.0,0.0,0.079567656,0.0,0.0,0.0,1\\n6.485411788,0.0,0.171984778,0.0,0.0,0.0,1\\n0.0,0.0,0.161636882,0.0,0.0,0.0,1\\n4.264975221,0.0,0.329939668,0.0,0.0,0.0,1\\n1.429133481,0.0,0.034558659,0.0,0.0,0.0,1\\n0.853902001,13.744247745,0.161778023,0.0,0.0,0.0,1\\n'"
            ],
            "application/vnd.google.colaboratory.intrinsic+json": {
              "type": "string"
            }
          },
          "metadata": {},
          "execution_count": 53
        }
      ]
    },
    {
      "cell_type": "code",
      "source": [
        "with open('features.csv', 'w') as file:\n",
        "  for linha in export:\n",
        "    file.write(linha)\n",
        "file.closed"
      ],
      "metadata": {
        "colab": {
          "base_uri": "https://localhost:8080/"
        },
        "id": "lIqsmHgd_Rm8",
        "outputId": "eeb007f1-32e5-4cfe-9bd7-438c4577e553"
      },
      "execution_count": 54,
      "outputs": [
        {
          "output_type": "execute_result",
          "data": {
            "text/plain": [
              "True"
            ]
          },
          "metadata": {},
          "execution_count": 54
        }
      ]
    },
    {
      "cell_type": "code",
      "source": [
        "dataset = pd.read_csv('features.csv')\n",
        "dataset"
      ],
      "metadata": {
        "id": "DJHXoO7-_dOu",
        "colab": {
          "base_uri": "https://localhost:8080/",
          "height": 424
        },
        "outputId": "d1157ba2-8ca7-429a-e1fa-e41321d450ab"
      },
      "execution_count": 55,
      "outputs": [
        {
          "output_type": "execute_result",
          "data": {
            "text/plain": [
              "         boca      calca   sapatos    camisa    calcao     tenis  class\n",
              "0    0.000000   0.000000  0.114799  6.886102  3.495204  3.495204      0\n",
              "1    0.000000   0.000000  0.110078  5.004901  3.183889  3.183889      0\n",
              "2    0.000000   0.000000  0.182519  5.264620  5.029683  5.029683      0\n",
              "3    0.000000   0.480168  0.080028  0.000000  0.000000  0.000000      0\n",
              "4    0.000000   0.000000  0.029708  8.978929  3.459119  3.459119      0\n",
              "..        ...        ...       ...       ...       ...       ...    ...\n",
              "264  6.485412   0.000000  0.171985  0.000000  0.000000  0.000000      1\n",
              "265  0.000000   0.000000  0.161637  0.000000  0.000000  0.000000      1\n",
              "266  4.264975   0.000000  0.329940  0.000000  0.000000  0.000000      1\n",
              "267  1.429133   0.000000  0.034559  0.000000  0.000000  0.000000      1\n",
              "268  0.853902  13.744248  0.161778  0.000000  0.000000  0.000000      1\n",
              "\n",
              "[269 rows x 7 columns]"
            ],
            "text/html": [
              "\n",
              "  <div id=\"df-8bf975b2-675a-44d3-9878-36bfad3f34da\" class=\"colab-df-container\">\n",
              "    <div>\n",
              "<style scoped>\n",
              "    .dataframe tbody tr th:only-of-type {\n",
              "        vertical-align: middle;\n",
              "    }\n",
              "\n",
              "    .dataframe tbody tr th {\n",
              "        vertical-align: top;\n",
              "    }\n",
              "\n",
              "    .dataframe thead th {\n",
              "        text-align: right;\n",
              "    }\n",
              "</style>\n",
              "<table border=\"1\" class=\"dataframe\">\n",
              "  <thead>\n",
              "    <tr style=\"text-align: right;\">\n",
              "      <th></th>\n",
              "      <th>boca</th>\n",
              "      <th>calca</th>\n",
              "      <th>sapatos</th>\n",
              "      <th>camisa</th>\n",
              "      <th>calcao</th>\n",
              "      <th>tenis</th>\n",
              "      <th>class</th>\n",
              "    </tr>\n",
              "  </thead>\n",
              "  <tbody>\n",
              "    <tr>\n",
              "      <th>0</th>\n",
              "      <td>0.000000</td>\n",
              "      <td>0.000000</td>\n",
              "      <td>0.114799</td>\n",
              "      <td>6.886102</td>\n",
              "      <td>3.495204</td>\n",
              "      <td>3.495204</td>\n",
              "      <td>0</td>\n",
              "    </tr>\n",
              "    <tr>\n",
              "      <th>1</th>\n",
              "      <td>0.000000</td>\n",
              "      <td>0.000000</td>\n",
              "      <td>0.110078</td>\n",
              "      <td>5.004901</td>\n",
              "      <td>3.183889</td>\n",
              "      <td>3.183889</td>\n",
              "      <td>0</td>\n",
              "    </tr>\n",
              "    <tr>\n",
              "      <th>2</th>\n",
              "      <td>0.000000</td>\n",
              "      <td>0.000000</td>\n",
              "      <td>0.182519</td>\n",
              "      <td>5.264620</td>\n",
              "      <td>5.029683</td>\n",
              "      <td>5.029683</td>\n",
              "      <td>0</td>\n",
              "    </tr>\n",
              "    <tr>\n",
              "      <th>3</th>\n",
              "      <td>0.000000</td>\n",
              "      <td>0.480168</td>\n",
              "      <td>0.080028</td>\n",
              "      <td>0.000000</td>\n",
              "      <td>0.000000</td>\n",
              "      <td>0.000000</td>\n",
              "      <td>0</td>\n",
              "    </tr>\n",
              "    <tr>\n",
              "      <th>4</th>\n",
              "      <td>0.000000</td>\n",
              "      <td>0.000000</td>\n",
              "      <td>0.029708</td>\n",
              "      <td>8.978929</td>\n",
              "      <td>3.459119</td>\n",
              "      <td>3.459119</td>\n",
              "      <td>0</td>\n",
              "    </tr>\n",
              "    <tr>\n",
              "      <th>...</th>\n",
              "      <td>...</td>\n",
              "      <td>...</td>\n",
              "      <td>...</td>\n",
              "      <td>...</td>\n",
              "      <td>...</td>\n",
              "      <td>...</td>\n",
              "      <td>...</td>\n",
              "    </tr>\n",
              "    <tr>\n",
              "      <th>264</th>\n",
              "      <td>6.485412</td>\n",
              "      <td>0.000000</td>\n",
              "      <td>0.171985</td>\n",
              "      <td>0.000000</td>\n",
              "      <td>0.000000</td>\n",
              "      <td>0.000000</td>\n",
              "      <td>1</td>\n",
              "    </tr>\n",
              "    <tr>\n",
              "      <th>265</th>\n",
              "      <td>0.000000</td>\n",
              "      <td>0.000000</td>\n",
              "      <td>0.161637</td>\n",
              "      <td>0.000000</td>\n",
              "      <td>0.000000</td>\n",
              "      <td>0.000000</td>\n",
              "      <td>1</td>\n",
              "    </tr>\n",
              "    <tr>\n",
              "      <th>266</th>\n",
              "      <td>4.264975</td>\n",
              "      <td>0.000000</td>\n",
              "      <td>0.329940</td>\n",
              "      <td>0.000000</td>\n",
              "      <td>0.000000</td>\n",
              "      <td>0.000000</td>\n",
              "      <td>1</td>\n",
              "    </tr>\n",
              "    <tr>\n",
              "      <th>267</th>\n",
              "      <td>1.429133</td>\n",
              "      <td>0.000000</td>\n",
              "      <td>0.034559</td>\n",
              "      <td>0.000000</td>\n",
              "      <td>0.000000</td>\n",
              "      <td>0.000000</td>\n",
              "      <td>1</td>\n",
              "    </tr>\n",
              "    <tr>\n",
              "      <th>268</th>\n",
              "      <td>0.853902</td>\n",
              "      <td>13.744248</td>\n",
              "      <td>0.161778</td>\n",
              "      <td>0.000000</td>\n",
              "      <td>0.000000</td>\n",
              "      <td>0.000000</td>\n",
              "      <td>1</td>\n",
              "    </tr>\n",
              "  </tbody>\n",
              "</table>\n",
              "<p>269 rows × 7 columns</p>\n",
              "</div>\n",
              "    <div class=\"colab-df-buttons\">\n",
              "\n",
              "  <div class=\"colab-df-container\">\n",
              "    <button class=\"colab-df-convert\" onclick=\"convertToInteractive('df-8bf975b2-675a-44d3-9878-36bfad3f34da')\"\n",
              "            title=\"Convert this dataframe to an interactive table.\"\n",
              "            style=\"display:none;\">\n",
              "\n",
              "  <svg xmlns=\"http://www.w3.org/2000/svg\" height=\"24px\" viewBox=\"0 -960 960 960\">\n",
              "    <path d=\"M120-120v-720h720v720H120Zm60-500h600v-160H180v160Zm220 220h160v-160H400v160Zm0 220h160v-160H400v160ZM180-400h160v-160H180v160Zm440 0h160v-160H620v160ZM180-180h160v-160H180v160Zm440 0h160v-160H620v160Z\"/>\n",
              "  </svg>\n",
              "    </button>\n",
              "\n",
              "  <style>\n",
              "    .colab-df-container {\n",
              "      display:flex;\n",
              "      gap: 12px;\n",
              "    }\n",
              "\n",
              "    .colab-df-convert {\n",
              "      background-color: #E8F0FE;\n",
              "      border: none;\n",
              "      border-radius: 50%;\n",
              "      cursor: pointer;\n",
              "      display: none;\n",
              "      fill: #1967D2;\n",
              "      height: 32px;\n",
              "      padding: 0 0 0 0;\n",
              "      width: 32px;\n",
              "    }\n",
              "\n",
              "    .colab-df-convert:hover {\n",
              "      background-color: #E2EBFA;\n",
              "      box-shadow: 0px 1px 2px rgba(60, 64, 67, 0.3), 0px 1px 3px 1px rgba(60, 64, 67, 0.15);\n",
              "      fill: #174EA6;\n",
              "    }\n",
              "\n",
              "    .colab-df-buttons div {\n",
              "      margin-bottom: 4px;\n",
              "    }\n",
              "\n",
              "    [theme=dark] .colab-df-convert {\n",
              "      background-color: #3B4455;\n",
              "      fill: #D2E3FC;\n",
              "    }\n",
              "\n",
              "    [theme=dark] .colab-df-convert:hover {\n",
              "      background-color: #434B5C;\n",
              "      box-shadow: 0px 1px 3px 1px rgba(0, 0, 0, 0.15);\n",
              "      filter: drop-shadow(0px 1px 2px rgba(0, 0, 0, 0.3));\n",
              "      fill: #FFFFFF;\n",
              "    }\n",
              "  </style>\n",
              "\n",
              "    <script>\n",
              "      const buttonEl =\n",
              "        document.querySelector('#df-8bf975b2-675a-44d3-9878-36bfad3f34da button.colab-df-convert');\n",
              "      buttonEl.style.display =\n",
              "        google.colab.kernel.accessAllowed ? 'block' : 'none';\n",
              "\n",
              "      async function convertToInteractive(key) {\n",
              "        const element = document.querySelector('#df-8bf975b2-675a-44d3-9878-36bfad3f34da');\n",
              "        const dataTable =\n",
              "          await google.colab.kernel.invokeFunction('convertToInteractive',\n",
              "                                                    [key], {});\n",
              "        if (!dataTable) return;\n",
              "\n",
              "        const docLinkHtml = 'Like what you see? Visit the ' +\n",
              "          '<a target=\"_blank\" href=https://colab.research.google.com/notebooks/data_table.ipynb>data table notebook</a>'\n",
              "          + ' to learn more about interactive tables.';\n",
              "        element.innerHTML = '';\n",
              "        dataTable['output_type'] = 'display_data';\n",
              "        await google.colab.output.renderOutput(dataTable, element);\n",
              "        const docLink = document.createElement('div');\n",
              "        docLink.innerHTML = docLinkHtml;\n",
              "        element.appendChild(docLink);\n",
              "      }\n",
              "    </script>\n",
              "  </div>\n",
              "\n",
              "\n",
              "<div id=\"df-ffbb4b71-cf51-4358-b6fa-1fdafd208948\">\n",
              "  <button class=\"colab-df-quickchart\" onclick=\"quickchart('df-ffbb4b71-cf51-4358-b6fa-1fdafd208948')\"\n",
              "            title=\"Suggest charts\"\n",
              "            style=\"display:none;\">\n",
              "\n",
              "<svg xmlns=\"http://www.w3.org/2000/svg\" height=\"24px\"viewBox=\"0 0 24 24\"\n",
              "     width=\"24px\">\n",
              "    <g>\n",
              "        <path d=\"M19 3H5c-1.1 0-2 .9-2 2v14c0 1.1.9 2 2 2h14c1.1 0 2-.9 2-2V5c0-1.1-.9-2-2-2zM9 17H7v-7h2v7zm4 0h-2V7h2v10zm4 0h-2v-4h2v4z\"/>\n",
              "    </g>\n",
              "</svg>\n",
              "  </button>\n",
              "\n",
              "<style>\n",
              "  .colab-df-quickchart {\n",
              "      --bg-color: #E8F0FE;\n",
              "      --fill-color: #1967D2;\n",
              "      --hover-bg-color: #E2EBFA;\n",
              "      --hover-fill-color: #174EA6;\n",
              "      --disabled-fill-color: #AAA;\n",
              "      --disabled-bg-color: #DDD;\n",
              "  }\n",
              "\n",
              "  [theme=dark] .colab-df-quickchart {\n",
              "      --bg-color: #3B4455;\n",
              "      --fill-color: #D2E3FC;\n",
              "      --hover-bg-color: #434B5C;\n",
              "      --hover-fill-color: #FFFFFF;\n",
              "      --disabled-bg-color: #3B4455;\n",
              "      --disabled-fill-color: #666;\n",
              "  }\n",
              "\n",
              "  .colab-df-quickchart {\n",
              "    background-color: var(--bg-color);\n",
              "    border: none;\n",
              "    border-radius: 50%;\n",
              "    cursor: pointer;\n",
              "    display: none;\n",
              "    fill: var(--fill-color);\n",
              "    height: 32px;\n",
              "    padding: 0;\n",
              "    width: 32px;\n",
              "  }\n",
              "\n",
              "  .colab-df-quickchart:hover {\n",
              "    background-color: var(--hover-bg-color);\n",
              "    box-shadow: 0 1px 2px rgba(60, 64, 67, 0.3), 0 1px 3px 1px rgba(60, 64, 67, 0.15);\n",
              "    fill: var(--button-hover-fill-color);\n",
              "  }\n",
              "\n",
              "  .colab-df-quickchart-complete:disabled,\n",
              "  .colab-df-quickchart-complete:disabled:hover {\n",
              "    background-color: var(--disabled-bg-color);\n",
              "    fill: var(--disabled-fill-color);\n",
              "    box-shadow: none;\n",
              "  }\n",
              "\n",
              "  .colab-df-spinner {\n",
              "    border: 2px solid var(--fill-color);\n",
              "    border-color: transparent;\n",
              "    border-bottom-color: var(--fill-color);\n",
              "    animation:\n",
              "      spin 1s steps(1) infinite;\n",
              "  }\n",
              "\n",
              "  @keyframes spin {\n",
              "    0% {\n",
              "      border-color: transparent;\n",
              "      border-bottom-color: var(--fill-color);\n",
              "      border-left-color: var(--fill-color);\n",
              "    }\n",
              "    20% {\n",
              "      border-color: transparent;\n",
              "      border-left-color: var(--fill-color);\n",
              "      border-top-color: var(--fill-color);\n",
              "    }\n",
              "    30% {\n",
              "      border-color: transparent;\n",
              "      border-left-color: var(--fill-color);\n",
              "      border-top-color: var(--fill-color);\n",
              "      border-right-color: var(--fill-color);\n",
              "    }\n",
              "    40% {\n",
              "      border-color: transparent;\n",
              "      border-right-color: var(--fill-color);\n",
              "      border-top-color: var(--fill-color);\n",
              "    }\n",
              "    60% {\n",
              "      border-color: transparent;\n",
              "      border-right-color: var(--fill-color);\n",
              "    }\n",
              "    80% {\n",
              "      border-color: transparent;\n",
              "      border-right-color: var(--fill-color);\n",
              "      border-bottom-color: var(--fill-color);\n",
              "    }\n",
              "    90% {\n",
              "      border-color: transparent;\n",
              "      border-bottom-color: var(--fill-color);\n",
              "    }\n",
              "  }\n",
              "</style>\n",
              "\n",
              "  <script>\n",
              "    async function quickchart(key) {\n",
              "      const quickchartButtonEl =\n",
              "        document.querySelector('#' + key + ' button');\n",
              "      quickchartButtonEl.disabled = true;  // To prevent multiple clicks.\n",
              "      quickchartButtonEl.classList.add('colab-df-spinner');\n",
              "      try {\n",
              "        const charts = await google.colab.kernel.invokeFunction(\n",
              "            'suggestCharts', [key], {});\n",
              "      } catch (error) {\n",
              "        console.error('Error during call to suggestCharts:', error);\n",
              "      }\n",
              "      quickchartButtonEl.classList.remove('colab-df-spinner');\n",
              "      quickchartButtonEl.classList.add('colab-df-quickchart-complete');\n",
              "    }\n",
              "    (() => {\n",
              "      let quickchartButtonEl =\n",
              "        document.querySelector('#df-ffbb4b71-cf51-4358-b6fa-1fdafd208948 button');\n",
              "      quickchartButtonEl.style.display =\n",
              "        google.colab.kernel.accessAllowed ? 'block' : 'none';\n",
              "    })();\n",
              "  </script>\n",
              "</div>\n",
              "\n",
              "  <div id=\"id_bb9583d5-5ad6-4638-bc03-b519c1edf8c9\">\n",
              "    <style>\n",
              "      .colab-df-generate {\n",
              "        background-color: #E8F0FE;\n",
              "        border: none;\n",
              "        border-radius: 50%;\n",
              "        cursor: pointer;\n",
              "        display: none;\n",
              "        fill: #1967D2;\n",
              "        height: 32px;\n",
              "        padding: 0 0 0 0;\n",
              "        width: 32px;\n",
              "      }\n",
              "\n",
              "      .colab-df-generate:hover {\n",
              "        background-color: #E2EBFA;\n",
              "        box-shadow: 0px 1px 2px rgba(60, 64, 67, 0.3), 0px 1px 3px 1px rgba(60, 64, 67, 0.15);\n",
              "        fill: #174EA6;\n",
              "      }\n",
              "\n",
              "      [theme=dark] .colab-df-generate {\n",
              "        background-color: #3B4455;\n",
              "        fill: #D2E3FC;\n",
              "      }\n",
              "\n",
              "      [theme=dark] .colab-df-generate:hover {\n",
              "        background-color: #434B5C;\n",
              "        box-shadow: 0px 1px 3px 1px rgba(0, 0, 0, 0.15);\n",
              "        filter: drop-shadow(0px 1px 2px rgba(0, 0, 0, 0.3));\n",
              "        fill: #FFFFFF;\n",
              "      }\n",
              "    </style>\n",
              "    <button class=\"colab-df-generate\" onclick=\"generateWithVariable('dataset')\"\n",
              "            title=\"Generate code using this dataframe.\"\n",
              "            style=\"display:none;\">\n",
              "\n",
              "  <svg xmlns=\"http://www.w3.org/2000/svg\" height=\"24px\"viewBox=\"0 0 24 24\"\n",
              "       width=\"24px\">\n",
              "    <path d=\"M7,19H8.4L18.45,9,17,7.55,7,17.6ZM5,21V16.75L18.45,3.32a2,2,0,0,1,2.83,0l1.4,1.43a1.91,1.91,0,0,1,.58,1.4,1.91,1.91,0,0,1-.58,1.4L9.25,21ZM18.45,9,17,7.55Zm-12,3A5.31,5.31,0,0,0,4.9,8.1,5.31,5.31,0,0,0,1,6.5,5.31,5.31,0,0,0,4.9,4.9,5.31,5.31,0,0,0,6.5,1,5.31,5.31,0,0,0,8.1,4.9,5.31,5.31,0,0,0,12,6.5,5.46,5.46,0,0,0,6.5,12Z\"/>\n",
              "  </svg>\n",
              "    </button>\n",
              "    <script>\n",
              "      (() => {\n",
              "      const buttonEl =\n",
              "        document.querySelector('#id_bb9583d5-5ad6-4638-bc03-b519c1edf8c9 button.colab-df-generate');\n",
              "      buttonEl.style.display =\n",
              "        google.colab.kernel.accessAllowed ? 'block' : 'none';\n",
              "\n",
              "      buttonEl.onclick = () => {\n",
              "        google.colab.notebook.generateWithVariable('dataset');\n",
              "      }\n",
              "      })();\n",
              "    </script>\n",
              "  </div>\n",
              "\n",
              "    </div>\n",
              "  </div>\n"
            ],
            "application/vnd.google.colaboratory.intrinsic+json": {
              "type": "dataframe",
              "variable_name": "dataset",
              "summary": "{\n  \"name\": \"dataset\",\n  \"rows\": 269,\n  \"fields\": [\n    {\n      \"column\": \"boca\",\n      \"properties\": {\n        \"dtype\": \"number\",\n        \"std\": 1.5384348599416817,\n        \"min\": 0.0,\n        \"max\": 9.431089476,\n        \"num_unique_values\": 129,\n        \"samples\": [\n          1.657903494,\n          6.507196996,\n          0.001554726\n        ],\n        \"semantic_type\": \"\",\n        \"description\": \"\"\n      }\n    },\n    {\n      \"column\": \"calca\",\n      \"properties\": {\n        \"dtype\": \"number\",\n        \"std\": 4.418033254132148,\n        \"min\": 0.0,\n        \"max\": 32.308912804,\n        \"num_unique_values\": 69,\n        \"samples\": [\n          4.588248639,\n          0.0,\n          8.650825818\n        ],\n        \"semantic_type\": \"\",\n        \"description\": \"\"\n      }\n    },\n    {\n      \"column\": \"sapatos\",\n      \"properties\": {\n        \"dtype\": \"number\",\n        \"std\": 0.5331867805349195,\n        \"min\": 0.0,\n        \"max\": 4.97238737,\n        \"num_unique_values\": 241,\n        \"samples\": [\n          0.083622139,\n          0.019853369,\n          0.154541841\n        ],\n        \"semantic_type\": \"\",\n        \"description\": \"\"\n      }\n    },\n    {\n      \"column\": \"camisa\",\n      \"properties\": {\n        \"dtype\": \"number\",\n        \"std\": 4.175606676515979,\n        \"min\": 0.0,\n        \"max\": 19.545383481,\n        \"num_unique_values\": 121,\n        \"samples\": [\n          6.528926251,\n          2.704001299,\n          8.978929368\n        ],\n        \"semantic_type\": \"\",\n        \"description\": \"\"\n      }\n    },\n    {\n      \"column\": \"calcao\",\n      \"properties\": {\n        \"dtype\": \"number\",\n        \"std\": 2.6317603403279466,\n        \"min\": 0.0,\n        \"max\": 18.927203065,\n        \"num_unique_values\": 92,\n        \"samples\": [\n          0.737235915,\n          1.739896764,\n          4.139423077\n        ],\n        \"semantic_type\": \"\",\n        \"description\": \"\"\n      }\n    },\n    {\n      \"column\": \"tenis\",\n      \"properties\": {\n        \"dtype\": \"number\",\n        \"std\": 2.385284405647379,\n        \"min\": 0.0,\n        \"max\": 17.73135868,\n        \"num_unique_values\": 89,\n        \"samples\": [\n          1.920500404,\n          4.139423077,\n          6.03685943\n        ],\n        \"semantic_type\": \"\",\n        \"description\": \"\"\n      }\n    },\n    {\n      \"column\": \"class\",\n      \"properties\": {\n        \"dtype\": \"number\",\n        \"std\": 0,\n        \"min\": 0,\n        \"max\": 1,\n        \"num_unique_values\": 2,\n        \"samples\": [\n          1,\n          0\n        ],\n        \"semantic_type\": \"\",\n        \"description\": \"\"\n      }\n    }\n  ]\n}"
            }
          },
          "metadata": {},
          "execution_count": 55
        }
      ]
    },
    {
      "cell_type": "markdown",
      "source": [
        "##Bases de treinamento e teste"
      ],
      "metadata": {
        "id": "Dt5V4iafAk-G"
      }
    },
    {
      "cell_type": "code",
      "source": [
        "x = dataset.iloc[:, 0:6].values\n",
        "x"
      ],
      "metadata": {
        "colab": {
          "base_uri": "https://localhost:8080/"
        },
        "id": "MSaANxNTAkPN",
        "outputId": "63fef7f4-dcca-492f-c56a-2a2c4db4b7c0"
      },
      "execution_count": 56,
      "outputs": [
        {
          "output_type": "execute_result",
          "data": {
            "text/plain": [
              "array([[ 0.        ,  0.        ,  0.11479923,  6.88610189,  3.49520435,\n",
              "         3.49520435],\n",
              "       [ 0.        ,  0.        ,  0.11007847,  5.00490111,  3.18388871,\n",
              "         3.18388871],\n",
              "       [ 0.        ,  0.        ,  0.18251863,  5.26462044,  5.02968296,\n",
              "         5.02968296],\n",
              "       ...,\n",
              "       [ 4.26497522,  0.        ,  0.32993967,  0.        ,  0.        ,\n",
              "         0.        ],\n",
              "       [ 1.42913348,  0.        ,  0.03455866,  0.        ,  0.        ,\n",
              "         0.        ],\n",
              "       [ 0.853902  , 13.74424774,  0.16177802,  0.        ,  0.        ,\n",
              "         0.        ]])"
            ]
          },
          "metadata": {},
          "execution_count": 56
        }
      ]
    },
    {
      "cell_type": "code",
      "source": [
        "y = dataset.iloc[:, 6].values\n",
        "y"
      ],
      "metadata": {
        "colab": {
          "base_uri": "https://localhost:8080/"
        },
        "id": "n8QjaLMMA3oF",
        "outputId": "92e6bad9-2aa5-449e-e0ce-0be79f40d265"
      },
      "execution_count": 57,
      "outputs": [
        {
          "output_type": "execute_result",
          "data": {
            "text/plain": [
              "array([0, 0, 0, 0, 0, 0, 0, 0, 0, 0, 0, 0, 0, 0, 0, 0, 0, 0, 0, 0, 0, 0,\n",
              "       0, 0, 0, 0, 0, 0, 0, 0, 0, 0, 0, 0, 0, 0, 0, 0, 0, 0, 0, 0, 0, 0,\n",
              "       0, 0, 0, 0, 0, 0, 0, 0, 0, 0, 0, 0, 0, 0, 0, 0, 0, 0, 0, 0, 0, 0,\n",
              "       0, 0, 0, 0, 0, 0, 0, 0, 0, 0, 0, 0, 0, 0, 0, 0, 0, 0, 0, 0, 0, 0,\n",
              "       0, 0, 0, 0, 0, 0, 0, 0, 0, 0, 0, 0, 0, 0, 0, 0, 0, 0, 0, 0, 0, 0,\n",
              "       0, 0, 0, 0, 0, 0, 0, 0, 0, 0, 0, 0, 0, 0, 0, 0, 0, 0, 0, 0, 0, 0,\n",
              "       0, 0, 0, 0, 0, 0, 0, 0, 0, 0, 0, 0, 0, 0, 0, 0, 0, 0, 0, 0, 0, 0,\n",
              "       0, 0, 0, 0, 0, 0, 1, 1, 1, 1, 1, 1, 1, 1, 1, 1, 1, 1, 1, 1, 1, 1,\n",
              "       1, 1, 1, 1, 1, 1, 1, 1, 1, 1, 1, 1, 1, 1, 1, 1, 1, 1, 1, 1, 1, 1,\n",
              "       1, 1, 1, 1, 1, 1, 1, 1, 1, 1, 1, 1, 1, 1, 1, 1, 1, 1, 1, 1, 1, 1,\n",
              "       1, 1, 1, 1, 1, 1, 1, 1, 1, 1, 1, 1, 1, 1, 1, 1, 1, 1, 1, 1, 1, 1,\n",
              "       1, 1, 1, 1, 1, 1, 1, 1, 1, 1, 1, 1, 1, 1, 1, 1, 1, 1, 1, 1, 1, 1,\n",
              "       1, 1, 1, 1, 1])"
            ]
          },
          "metadata": {},
          "execution_count": 57
        }
      ]
    },
    {
      "cell_type": "code",
      "source": [
        "from sklearn.model_selection import train_test_split\n",
        "x_treinamento, x_teste, y_treinamento, y_teste = train_test_split(x,y, test_size=0.2,random_state=1)"
      ],
      "metadata": {
        "id": "q78jIiaPA96x"
      },
      "execution_count": 60,
      "outputs": []
    },
    {
      "cell_type": "code",
      "source": [
        "x_treinamento.shape, y_treinamento.shape"
      ],
      "metadata": {
        "colab": {
          "base_uri": "https://localhost:8080/"
        },
        "id": "Jeo8oFpWBNQa",
        "outputId": "15a6086e-40cc-4b72-c67f-a96fc494d41a"
      },
      "execution_count": 61,
      "outputs": [
        {
          "output_type": "execute_result",
          "data": {
            "text/plain": [
              "((215, 6), (215,))"
            ]
          },
          "metadata": {},
          "execution_count": 61
        }
      ]
    },
    {
      "cell_type": "code",
      "source": [
        "x_teste.shape, y_teste.shape"
      ],
      "metadata": {
        "colab": {
          "base_uri": "https://localhost:8080/"
        },
        "id": "fy3ZhIS_BRkG",
        "outputId": "42003613-6084-4064-a2be-148ac560a9ba"
      },
      "execution_count": 62,
      "outputs": [
        {
          "output_type": "execute_result",
          "data": {
            "text/plain": [
              "((54, 6), (54,))"
            ]
          },
          "metadata": {},
          "execution_count": 62
        }
      ]
    },
    {
      "cell_type": "markdown",
      "source": [
        "##Construcao e treinamento da rede neural"
      ],
      "metadata": {
        "id": "8lw-fhtUBbR3"
      }
    },
    {
      "cell_type": "code",
      "source": [
        "network2 = tf.keras.Sequential()\n",
        "network2.add(tf.keras.layers.Dense(input_shape = (6,), units = 4, activation='relu'))\n",
        "network2.add(tf.keras.layers.Dense(units=4, activation='relu'))\n",
        "network2.add(tf.keras.layers.Dense(units=4, activation='relu'))\n",
        "network2.add(tf.keras.layers.Dense(units=1, activation='sigmoid'))"
      ],
      "metadata": {
        "colab": {
          "base_uri": "https://localhost:8080/"
        },
        "id": "hQTDW8A8BeBn",
        "outputId": "09988f96-4514-49f0-9ff3-1adc7145414c"
      },
      "execution_count": 63,
      "outputs": [
        {
          "output_type": "stream",
          "name": "stderr",
          "text": [
            "/usr/local/lib/python3.10/dist-packages/keras/src/layers/core/dense.py:87: UserWarning: Do not pass an `input_shape`/`input_dim` argument to a layer. When using Sequential models, prefer using an `Input(shape)` object as the first layer in the model instead.\n",
            "  super().__init__(activity_regularizer=activity_regularizer, **kwargs)\n"
          ]
        }
      ]
    },
    {
      "cell_type": "code",
      "source": [
        "network2.summary()"
      ],
      "metadata": {
        "colab": {
          "base_uri": "https://localhost:8080/",
          "height": 268
        },
        "id": "GFBQGedDCF-R",
        "outputId": "7c063588-31ab-4dbb-8b08-45422c5fb8c4"
      },
      "execution_count": 64,
      "outputs": [
        {
          "output_type": "display_data",
          "data": {
            "text/plain": [
              "\u001b[1mModel: \"sequential\"\u001b[0m\n"
            ],
            "text/html": [
              "<pre style=\"white-space:pre;overflow-x:auto;line-height:normal;font-family:Menlo,'DejaVu Sans Mono',consolas,'Courier New',monospace\"><span style=\"font-weight: bold\">Model: \"sequential\"</span>\n",
              "</pre>\n"
            ]
          },
          "metadata": {}
        },
        {
          "output_type": "display_data",
          "data": {
            "text/plain": [
              "┏━━━━━━━━━━━━━━━━━━━━━━━━━━━━━━━━━━━━━━┳━━━━━━━━━━━━━━━━━━━━━━━━━━━━━┳━━━━━━━━━━━━━━━━━┓\n",
              "┃\u001b[1m \u001b[0m\u001b[1mLayer (type)                        \u001b[0m\u001b[1m \u001b[0m┃\u001b[1m \u001b[0m\u001b[1mOutput Shape               \u001b[0m\u001b[1m \u001b[0m┃\u001b[1m \u001b[0m\u001b[1m        Param #\u001b[0m\u001b[1m \u001b[0m┃\n",
              "┡━━━━━━━━━━━━━━━━━━━━━━━━━━━━━━━━━━━━━━╇━━━━━━━━━━━━━━━━━━━━━━━━━━━━━╇━━━━━━━━━━━━━━━━━┩\n",
              "│ dense (\u001b[38;5;33mDense\u001b[0m)                        │ (\u001b[38;5;45mNone\u001b[0m, \u001b[38;5;34m4\u001b[0m)                   │              \u001b[38;5;34m28\u001b[0m │\n",
              "├──────────────────────────────────────┼─────────────────────────────┼─────────────────┤\n",
              "│ dense_1 (\u001b[38;5;33mDense\u001b[0m)                      │ (\u001b[38;5;45mNone\u001b[0m, \u001b[38;5;34m4\u001b[0m)                   │              \u001b[38;5;34m20\u001b[0m │\n",
              "├──────────────────────────────────────┼─────────────────────────────┼─────────────────┤\n",
              "│ dense_2 (\u001b[38;5;33mDense\u001b[0m)                      │ (\u001b[38;5;45mNone\u001b[0m, \u001b[38;5;34m4\u001b[0m)                   │              \u001b[38;5;34m20\u001b[0m │\n",
              "├──────────────────────────────────────┼─────────────────────────────┼─────────────────┤\n",
              "│ dense_3 (\u001b[38;5;33mDense\u001b[0m)                      │ (\u001b[38;5;45mNone\u001b[0m, \u001b[38;5;34m1\u001b[0m)                   │               \u001b[38;5;34m5\u001b[0m │\n",
              "└──────────────────────────────────────┴─────────────────────────────┴─────────────────┘\n"
            ],
            "text/html": [
              "<pre style=\"white-space:pre;overflow-x:auto;line-height:normal;font-family:Menlo,'DejaVu Sans Mono',consolas,'Courier New',monospace\">┏━━━━━━━━━━━━━━━━━━━━━━━━━━━━━━━━━━━━━━┳━━━━━━━━━━━━━━━━━━━━━━━━━━━━━┳━━━━━━━━━━━━━━━━━┓\n",
              "┃<span style=\"font-weight: bold\"> Layer (type)                         </span>┃<span style=\"font-weight: bold\"> Output Shape                </span>┃<span style=\"font-weight: bold\">         Param # </span>┃\n",
              "┡━━━━━━━━━━━━━━━━━━━━━━━━━━━━━━━━━━━━━━╇━━━━━━━━━━━━━━━━━━━━━━━━━━━━━╇━━━━━━━━━━━━━━━━━┩\n",
              "│ dense (<span style=\"color: #0087ff; text-decoration-color: #0087ff\">Dense</span>)                        │ (<span style=\"color: #00d7ff; text-decoration-color: #00d7ff\">None</span>, <span style=\"color: #00af00; text-decoration-color: #00af00\">4</span>)                   │              <span style=\"color: #00af00; text-decoration-color: #00af00\">28</span> │\n",
              "├──────────────────────────────────────┼─────────────────────────────┼─────────────────┤\n",
              "│ dense_1 (<span style=\"color: #0087ff; text-decoration-color: #0087ff\">Dense</span>)                      │ (<span style=\"color: #00d7ff; text-decoration-color: #00d7ff\">None</span>, <span style=\"color: #00af00; text-decoration-color: #00af00\">4</span>)                   │              <span style=\"color: #00af00; text-decoration-color: #00af00\">20</span> │\n",
              "├──────────────────────────────────────┼─────────────────────────────┼─────────────────┤\n",
              "│ dense_2 (<span style=\"color: #0087ff; text-decoration-color: #0087ff\">Dense</span>)                      │ (<span style=\"color: #00d7ff; text-decoration-color: #00d7ff\">None</span>, <span style=\"color: #00af00; text-decoration-color: #00af00\">4</span>)                   │              <span style=\"color: #00af00; text-decoration-color: #00af00\">20</span> │\n",
              "├──────────────────────────────────────┼─────────────────────────────┼─────────────────┤\n",
              "│ dense_3 (<span style=\"color: #0087ff; text-decoration-color: #0087ff\">Dense</span>)                      │ (<span style=\"color: #00d7ff; text-decoration-color: #00d7ff\">None</span>, <span style=\"color: #00af00; text-decoration-color: #00af00\">1</span>)                   │               <span style=\"color: #00af00; text-decoration-color: #00af00\">5</span> │\n",
              "└──────────────────────────────────────┴─────────────────────────────┴─────────────────┘\n",
              "</pre>\n"
            ]
          },
          "metadata": {}
        },
        {
          "output_type": "display_data",
          "data": {
            "text/plain": [
              "\u001b[1m Total params: \u001b[0m\u001b[38;5;34m73\u001b[0m (292.00 B)\n"
            ],
            "text/html": [
              "<pre style=\"white-space:pre;overflow-x:auto;line-height:normal;font-family:Menlo,'DejaVu Sans Mono',consolas,'Courier New',monospace\"><span style=\"font-weight: bold\"> Total params: </span><span style=\"color: #00af00; text-decoration-color: #00af00\">73</span> (292.00 B)\n",
              "</pre>\n"
            ]
          },
          "metadata": {}
        },
        {
          "output_type": "display_data",
          "data": {
            "text/plain": [
              "\u001b[1m Trainable params: \u001b[0m\u001b[38;5;34m73\u001b[0m (292.00 B)\n"
            ],
            "text/html": [
              "<pre style=\"white-space:pre;overflow-x:auto;line-height:normal;font-family:Menlo,'DejaVu Sans Mono',consolas,'Courier New',monospace\"><span style=\"font-weight: bold\"> Trainable params: </span><span style=\"color: #00af00; text-decoration-color: #00af00\">73</span> (292.00 B)\n",
              "</pre>\n"
            ]
          },
          "metadata": {}
        },
        {
          "output_type": "display_data",
          "data": {
            "text/plain": [
              "\u001b[1m Non-trainable params: \u001b[0m\u001b[38;5;34m0\u001b[0m (0.00 B)\n"
            ],
            "text/html": [
              "<pre style=\"white-space:pre;overflow-x:auto;line-height:normal;font-family:Menlo,'DejaVu Sans Mono',consolas,'Courier New',monospace\"><span style=\"font-weight: bold\"> Non-trainable params: </span><span style=\"color: #00af00; text-decoration-color: #00af00\">0</span> (0.00 B)\n",
              "</pre>\n"
            ]
          },
          "metadata": {}
        }
      ]
    },
    {
      "cell_type": "code",
      "source": [
        "network2.compile(optimizer='Adam', loss='binary_crossentropy', metrics=['accuracy'])"
      ],
      "metadata": {
        "id": "_ayj5WAGCL3g"
      },
      "execution_count": 65,
      "outputs": []
    },
    {
      "cell_type": "code",
      "source": [
        "historico = network2.fit(x_treinamento, y_treinamento, epochs=50)"
      ],
      "metadata": {
        "colab": {
          "base_uri": "https://localhost:8080/"
        },
        "id": "NffXkQcPCUzj",
        "outputId": "85e9657e-d579-4ddc-a066-ed249017d740"
      },
      "execution_count": 66,
      "outputs": [
        {
          "output_type": "stream",
          "name": "stdout",
          "text": [
            "Epoch 1/50\n",
            "\u001b[1m7/7\u001b[0m \u001b[32m━━━━━━━━━━━━━━━━━━━━\u001b[0m\u001b[37m\u001b[0m \u001b[1m4s\u001b[0m 110ms/step - accuracy: 0.6907 - loss: 0.6857\n",
            "Epoch 2/50\n",
            "\u001b[1m7/7\u001b[0m \u001b[32m━━━━━━━━━━━━━━━━━━━━\u001b[0m\u001b[37m\u001b[0m \u001b[1m0s\u001b[0m 2ms/step - accuracy: 0.6284 - loss: 0.6610 \n",
            "Epoch 3/50\n",
            "\u001b[1m7/7\u001b[0m \u001b[32m━━━━━━━━━━━━━━━━━━━━\u001b[0m\u001b[37m\u001b[0m \u001b[1m0s\u001b[0m 2ms/step - accuracy: 0.7483 - loss: 0.6270 \n",
            "Epoch 4/50\n",
            "\u001b[1m7/7\u001b[0m \u001b[32m━━━━━━━━━━━━━━━━━━━━\u001b[0m\u001b[37m\u001b[0m \u001b[1m0s\u001b[0m 3ms/step - accuracy: 0.7675 - loss: 0.5905 \n",
            "Epoch 5/50\n",
            "\u001b[1m7/7\u001b[0m \u001b[32m━━━━━━━━━━━━━━━━━━━━\u001b[0m\u001b[37m\u001b[0m \u001b[1m0s\u001b[0m 2ms/step - accuracy: 0.7701 - loss: 0.5774 \n",
            "Epoch 6/50\n",
            "\u001b[1m7/7\u001b[0m \u001b[32m━━━━━━━━━━━━━━━━━━━━\u001b[0m\u001b[37m\u001b[0m \u001b[1m0s\u001b[0m 2ms/step - accuracy: 0.7920 - loss: 0.5582 \n",
            "Epoch 7/50\n",
            "\u001b[1m7/7\u001b[0m \u001b[32m━━━━━━━━━━━━━━━━━━━━\u001b[0m\u001b[37m\u001b[0m \u001b[1m0s\u001b[0m 2ms/step - accuracy: 0.7753 - loss: 0.5768 \n",
            "Epoch 8/50\n",
            "\u001b[1m7/7\u001b[0m \u001b[32m━━━━━━━━━━━━━━━━━━━━\u001b[0m\u001b[37m\u001b[0m \u001b[1m0s\u001b[0m 3ms/step - accuracy: 0.7566 - loss: 0.5766 \n",
            "Epoch 9/50\n",
            "\u001b[1m7/7\u001b[0m \u001b[32m━━━━━━━━━━━━━━━━━━━━\u001b[0m\u001b[37m\u001b[0m \u001b[1m0s\u001b[0m 3ms/step - accuracy: 0.7914 - loss: 0.5142 \n",
            "Epoch 10/50\n",
            "\u001b[1m7/7\u001b[0m \u001b[32m━━━━━━━━━━━━━━━━━━━━\u001b[0m\u001b[37m\u001b[0m \u001b[1m0s\u001b[0m 2ms/step - accuracy: 0.7923 - loss: 0.5303 \n",
            "Epoch 11/50\n",
            "\u001b[1m7/7\u001b[0m \u001b[32m━━━━━━━━━━━━━━━━━━━━\u001b[0m\u001b[37m\u001b[0m \u001b[1m0s\u001b[0m 2ms/step - accuracy: 0.7330 - loss: 0.5428 \n",
            "Epoch 12/50\n",
            "\u001b[1m7/7\u001b[0m \u001b[32m━━━━━━━━━━━━━━━━━━━━\u001b[0m\u001b[37m\u001b[0m \u001b[1m0s\u001b[0m 2ms/step - accuracy: 0.7636 - loss: 0.5080 \n",
            "Epoch 13/50\n",
            "\u001b[1m7/7\u001b[0m \u001b[32m━━━━━━━━━━━━━━━━━━━━\u001b[0m\u001b[37m\u001b[0m \u001b[1m0s\u001b[0m 2ms/step - accuracy: 0.7643 - loss: 0.4751 \n",
            "Epoch 14/50\n",
            "\u001b[1m7/7\u001b[0m \u001b[32m━━━━━━━━━━━━━━━━━━━━\u001b[0m\u001b[37m\u001b[0m \u001b[1m0s\u001b[0m 2ms/step - accuracy: 0.7622 - loss: 0.4790 \n",
            "Epoch 15/50\n",
            "\u001b[1m7/7\u001b[0m \u001b[32m━━━━━━━━━━━━━━━━━━━━\u001b[0m\u001b[37m\u001b[0m \u001b[1m0s\u001b[0m 2ms/step - accuracy: 0.7780 - loss: 0.4486 \n",
            "Epoch 16/50\n",
            "\u001b[1m7/7\u001b[0m \u001b[32m━━━━━━━━━━━━━━━━━━━━\u001b[0m\u001b[37m\u001b[0m \u001b[1m0s\u001b[0m 2ms/step - accuracy: 0.7952 - loss: 0.4162 \n",
            "Epoch 17/50\n",
            "\u001b[1m7/7\u001b[0m \u001b[32m━━━━━━━━━━━━━━━━━━━━\u001b[0m\u001b[37m\u001b[0m \u001b[1m0s\u001b[0m 2ms/step - accuracy: 0.8279 - loss: 0.3918 \n",
            "Epoch 18/50\n",
            "\u001b[1m7/7\u001b[0m \u001b[32m━━━━━━━━━━━━━━━━━━━━\u001b[0m\u001b[37m\u001b[0m \u001b[1m0s\u001b[0m 3ms/step - accuracy: 0.8477 - loss: 0.3582 \n",
            "Epoch 19/50\n",
            "\u001b[1m7/7\u001b[0m \u001b[32m━━━━━━━━━━━━━━━━━━━━\u001b[0m\u001b[37m\u001b[0m \u001b[1m0s\u001b[0m 3ms/step - accuracy: 0.8349 - loss: 0.3668 \n",
            "Epoch 20/50\n",
            "\u001b[1m7/7\u001b[0m \u001b[32m━━━━━━━━━━━━━━━━━━━━\u001b[0m\u001b[37m\u001b[0m \u001b[1m0s\u001b[0m 3ms/step - accuracy: 0.8741 - loss: 0.3247 \n",
            "Epoch 21/50\n",
            "\u001b[1m7/7\u001b[0m \u001b[32m━━━━━━━━━━━━━━━━━━━━\u001b[0m\u001b[37m\u001b[0m \u001b[1m0s\u001b[0m 3ms/step - accuracy: 0.8460 - loss: 0.3406 \n",
            "Epoch 22/50\n",
            "\u001b[1m7/7\u001b[0m \u001b[32m━━━━━━━━━━━━━━━━━━━━\u001b[0m\u001b[37m\u001b[0m \u001b[1m0s\u001b[0m 2ms/step - accuracy: 0.8912 - loss: 0.3242 \n",
            "Epoch 23/50\n",
            "\u001b[1m7/7\u001b[0m \u001b[32m━━━━━━━━━━━━━━━━━━━━\u001b[0m\u001b[37m\u001b[0m \u001b[1m0s\u001b[0m 2ms/step - accuracy: 0.8653 - loss: 0.3146 \n",
            "Epoch 24/50\n",
            "\u001b[1m7/7\u001b[0m \u001b[32m━━━━━━━━━━━━━━━━━━━━\u001b[0m\u001b[37m\u001b[0m \u001b[1m0s\u001b[0m 3ms/step - accuracy: 0.8851 - loss: 0.3021 \n",
            "Epoch 25/50\n",
            "\u001b[1m7/7\u001b[0m \u001b[32m━━━━━━━━━━━━━━━━━━━━\u001b[0m\u001b[37m\u001b[0m \u001b[1m0s\u001b[0m 2ms/step - accuracy: 0.9201 - loss: 0.3240 \n",
            "Epoch 26/50\n",
            "\u001b[1m7/7\u001b[0m \u001b[32m━━━━━━━━━━━━━━━━━━━━\u001b[0m\u001b[37m\u001b[0m \u001b[1m0s\u001b[0m 2ms/step - accuracy: 0.8995 - loss: 0.3199 \n",
            "Epoch 27/50\n",
            "\u001b[1m7/7\u001b[0m \u001b[32m━━━━━━━━━━━━━━━━━━━━\u001b[0m\u001b[37m\u001b[0m \u001b[1m0s\u001b[0m 2ms/step - accuracy: 0.8970 - loss: 0.3019 \n",
            "Epoch 28/50\n",
            "\u001b[1m7/7\u001b[0m \u001b[32m━━━━━━━━━━━━━━━━━━━━\u001b[0m\u001b[37m\u001b[0m \u001b[1m0s\u001b[0m 2ms/step - accuracy: 0.9036 - loss: 0.2764 \n",
            "Epoch 29/50\n",
            "\u001b[1m7/7\u001b[0m \u001b[32m━━━━━━━━━━━━━━━━━━━━\u001b[0m\u001b[37m\u001b[0m \u001b[1m0s\u001b[0m 2ms/step - accuracy: 0.9038 - loss: 0.2795 \n",
            "Epoch 30/50\n",
            "\u001b[1m7/7\u001b[0m \u001b[32m━━━━━━━━━━━━━━━━━━━━\u001b[0m\u001b[37m\u001b[0m \u001b[1m0s\u001b[0m 2ms/step - accuracy: 0.9189 - loss: 0.2591 \n",
            "Epoch 31/50\n",
            "\u001b[1m7/7\u001b[0m \u001b[32m━━━━━━━━━━━━━━━━━━━━\u001b[0m\u001b[37m\u001b[0m \u001b[1m0s\u001b[0m 2ms/step - accuracy: 0.9100 - loss: 0.2659 \n",
            "Epoch 32/50\n",
            "\u001b[1m7/7\u001b[0m \u001b[32m━━━━━━━━━━━━━━━━━━━━\u001b[0m\u001b[37m\u001b[0m \u001b[1m0s\u001b[0m 2ms/step - accuracy: 0.8760 - loss: 0.2762 \n",
            "Epoch 33/50\n",
            "\u001b[1m7/7\u001b[0m \u001b[32m━━━━━━━━━━━━━━━━━━━━\u001b[0m\u001b[37m\u001b[0m \u001b[1m0s\u001b[0m 2ms/step - accuracy: 0.8893 - loss: 0.2694 \n",
            "Epoch 34/50\n",
            "\u001b[1m7/7\u001b[0m \u001b[32m━━━━━━━━━━━━━━━━━━━━\u001b[0m\u001b[37m\u001b[0m \u001b[1m0s\u001b[0m 2ms/step - accuracy: 0.8804 - loss: 0.2619 \n",
            "Epoch 35/50\n",
            "\u001b[1m7/7\u001b[0m \u001b[32m━━━━━━━━━━━━━━━━━━━━\u001b[0m\u001b[37m\u001b[0m \u001b[1m0s\u001b[0m 2ms/step - accuracy: 0.9194 - loss: 0.2374 \n",
            "Epoch 36/50\n",
            "\u001b[1m7/7\u001b[0m \u001b[32m━━━━━━━━━━━━━━━━━━━━\u001b[0m\u001b[37m\u001b[0m \u001b[1m0s\u001b[0m 2ms/step - accuracy: 0.8918 - loss: 0.2442 \n",
            "Epoch 37/50\n",
            "\u001b[1m7/7\u001b[0m \u001b[32m━━━━━━━━━━━━━━━━━━━━\u001b[0m\u001b[37m\u001b[0m \u001b[1m0s\u001b[0m 2ms/step - accuracy: 0.9033 - loss: 0.2486 \n",
            "Epoch 38/50\n",
            "\u001b[1m7/7\u001b[0m \u001b[32m━━━━━━━━━━━━━━━━━━━━\u001b[0m\u001b[37m\u001b[0m \u001b[1m0s\u001b[0m 3ms/step - accuracy: 0.9001 - loss: 0.2440 \n",
            "Epoch 39/50\n",
            "\u001b[1m7/7\u001b[0m \u001b[32m━━━━━━━━━━━━━━━━━━━━\u001b[0m\u001b[37m\u001b[0m \u001b[1m0s\u001b[0m 3ms/step - accuracy: 0.8887 - loss: 0.2412 \n",
            "Epoch 40/50\n",
            "\u001b[1m7/7\u001b[0m \u001b[32m━━━━━━━━━━━━━━━━━━━━\u001b[0m\u001b[37m\u001b[0m \u001b[1m0s\u001b[0m 3ms/step - accuracy: 0.9079 - loss: 0.2261 \n",
            "Epoch 41/50\n",
            "\u001b[1m7/7\u001b[0m \u001b[32m━━━━━━━━━━━━━━━━━━━━\u001b[0m\u001b[37m\u001b[0m \u001b[1m0s\u001b[0m 3ms/step - accuracy: 0.8813 - loss: 0.2718 \n",
            "Epoch 42/50\n",
            "\u001b[1m7/7\u001b[0m \u001b[32m━━━━━━━━━━━━━━━━━━━━\u001b[0m\u001b[37m\u001b[0m \u001b[1m0s\u001b[0m 3ms/step - accuracy: 0.8982 - loss: 0.2343 \n",
            "Epoch 43/50\n",
            "\u001b[1m7/7\u001b[0m \u001b[32m━━━━━━━━━━━━━━━━━━━━\u001b[0m\u001b[37m\u001b[0m \u001b[1m0s\u001b[0m 2ms/step - accuracy: 0.8832 - loss: 0.2271 \n",
            "Epoch 44/50\n",
            "\u001b[1m7/7\u001b[0m \u001b[32m━━━━━━━━━━━━━━━━━━━━\u001b[0m\u001b[37m\u001b[0m \u001b[1m0s\u001b[0m 2ms/step - accuracy: 0.9128 - loss: 0.2208 \n",
            "Epoch 45/50\n",
            "\u001b[1m7/7\u001b[0m \u001b[32m━━━━━━━━━━━━━━━━━━━━\u001b[0m\u001b[37m\u001b[0m \u001b[1m0s\u001b[0m 2ms/step - accuracy: 0.8965 - loss: 0.2305 \n",
            "Epoch 46/50\n",
            "\u001b[1m7/7\u001b[0m \u001b[32m━━━━━━━━━━━━━━━━━━━━\u001b[0m\u001b[37m\u001b[0m \u001b[1m0s\u001b[0m 2ms/step - accuracy: 0.8798 - loss: 0.2342 \n",
            "Epoch 47/50\n",
            "\u001b[1m7/7\u001b[0m \u001b[32m━━━━━━━━━━━━━━━━━━━━\u001b[0m\u001b[37m\u001b[0m \u001b[1m0s\u001b[0m 2ms/step - accuracy: 0.9095 - loss: 0.2033 \n",
            "Epoch 48/50\n",
            "\u001b[1m7/7\u001b[0m \u001b[32m━━━━━━━━━━━━━━━━━━━━\u001b[0m\u001b[37m\u001b[0m \u001b[1m0s\u001b[0m 2ms/step - accuracy: 0.9067 - loss: 0.2160 \n",
            "Epoch 49/50\n",
            "\u001b[1m7/7\u001b[0m \u001b[32m━━━━━━━━━━━━━━━━━━━━\u001b[0m\u001b[37m\u001b[0m \u001b[1m0s\u001b[0m 2ms/step - accuracy: 0.9338 - loss: 0.1911 \n",
            "Epoch 50/50\n",
            "\u001b[1m7/7\u001b[0m \u001b[32m━━━━━━━━━━━━━━━━━━━━\u001b[0m\u001b[37m\u001b[0m \u001b[1m0s\u001b[0m 2ms/step - accuracy: 0.9023 - loss: 0.2148 \n"
          ]
        }
      ]
    },
    {
      "cell_type": "markdown",
      "source": [
        "##Avalicao da rede neural"
      ],
      "metadata": {
        "id": "2FiS_YeCCmrt"
      }
    },
    {
      "cell_type": "code",
      "source": [
        "historico.history.keys()"
      ],
      "metadata": {
        "colab": {
          "base_uri": "https://localhost:8080/"
        },
        "id": "k02xFq0ICmV8",
        "outputId": "46ef508b-4dda-4b47-f170-9fc263a272e9"
      },
      "execution_count": 67,
      "outputs": [
        {
          "output_type": "execute_result",
          "data": {
            "text/plain": [
              "dict_keys(['accuracy', 'loss'])"
            ]
          },
          "metadata": {},
          "execution_count": 67
        }
      ]
    },
    {
      "cell_type": "code",
      "source": [
        "plt.plot(historico.history['loss'])"
      ],
      "metadata": {
        "colab": {
          "base_uri": "https://localhost:8080/",
          "height": 448
        },
        "id": "JAEn_zahCupo",
        "outputId": "a8d697db-02a7-4133-b2bc-33af5ab1ff58"
      },
      "execution_count": 68,
      "outputs": [
        {
          "output_type": "execute_result",
          "data": {
            "text/plain": [
              "[<matplotlib.lines.Line2D at 0x7c8f49113370>]"
            ]
          },
          "metadata": {},
          "execution_count": 68
        },
        {
          "output_type": "display_data",
          "data": {
            "text/plain": [
              "<Figure size 640x480 with 1 Axes>"
            ],
            "image/png": "[encoded data removed]"
          },
          "metadata": {}
        }
      ]
    },
    {
      "cell_type": "code",
      "source": [
        "plt.plot(historico.history['accuracy'])"
      ],
      "metadata": {
        "colab": {
          "base_uri": "https://localhost:8080/",
          "height": 448
        },
        "id": "myvNKEVdC3qG",
        "outputId": "9927eae2-d23f-4d3a-e835-8ae3df39c65b"
      },
      "execution_count": 69,
      "outputs": [
        {
          "output_type": "execute_result",
          "data": {
            "text/plain": [
              "[<matplotlib.lines.Line2D at 0x7c8f4927e1d0>]"
            ]
          },
          "metadata": {},
          "execution_count": 69
        },
        {
          "output_type": "display_data",
          "data": {
            "text/plain": [
              "<Figure size 640x480 with 1 Axes>"
            ],
            "image/png": "[encoded data removed]"
          },
          "metadata": {}
        }
      ]
    },
    {
      "cell_type": "code",
      "source": [
        "previsoes = network2(x_teste)\n",
        "previsoes"
      ],
      "metadata": {
        "colab": {
          "base_uri": "https://localhost:8080/"
        },
        "id": "9G4A0rlXC7Bw",
        "outputId": "fbcd9eac-7e8a-4741-c3fc-481d66b21a45"
      },
      "execution_count": 81,
      "outputs": [
        {
          "output_type": "execute_result",
          "data": {
            "text/plain": [
              "<tf.Tensor: shape=(54, 1), dtype=float32, numpy=\n",
              "array([[4.0037932e-07],\n",
              "       [9.6338040e-01],\n",
              "       [7.5837625e-03],\n",
              "       [3.9629701e-01],\n",
              "       [1.1973665e-02],\n",
              "       [9.7750825e-01],\n",
              "       [1.4854154e-08],\n",
              "       [1.0384561e-02],\n",
              "       [1.0124481e-03],\n",
              "       [2.2804628e-03],\n",
              "       [1.2814788e-02],\n",
              "       [9.9869126e-01],\n",
              "       [7.6048547e-01],\n",
              "       [1.0684753e-05],\n",
              "       [4.0958777e-01],\n",
              "       [9.9869978e-01],\n",
              "       [6.6926658e-01],\n",
              "       [9.7403049e-01],\n",
              "       [3.7482116e-01],\n",
              "       [1.4620814e-03],\n",
              "       [5.2041033e-17],\n",
              "       [9.9221593e-01],\n",
              "       [8.3942842e-01],\n",
              "       [3.4404866e-04],\n",
              "       [1.2529243e-07],\n",
              "       [9.9681193e-01],\n",
              "       [4.0971965e-01],\n",
              "       [3.8830665e-04],\n",
              "       [9.5384771e-01],\n",
              "       [9.9982846e-01],\n",
              "       [8.3609599e-01],\n",
              "       [9.9999928e-01],\n",
              "       [9.9883038e-01],\n",
              "       [5.1681614e-01],\n",
              "       [9.9997520e-01],\n",
              "       [8.3763319e-01],\n",
              "       [3.2911941e-03],\n",
              "       [2.1732366e-03],\n",
              "       [4.0363005e-01],\n",
              "       [1.5549705e-02],\n",
              "       [8.5263962e-01],\n",
              "       [4.4153208e-01],\n",
              "       [9.9983408e-05],\n",
              "       [4.7215726e-05],\n",
              "       [8.4461262e-06],\n",
              "       [9.9149668e-01],\n",
              "       [7.4672848e-01],\n",
              "       [3.7141004e-01],\n",
              "       [7.1904360e-06],\n",
              "       [7.4279267e-01],\n",
              "       [5.1747725e-06],\n",
              "       [8.2212442e-01],\n",
              "       [9.9201411e-01],\n",
              "       [9.3727422e-01]], dtype=float32)>"
            ]
          },
          "metadata": {},
          "execution_count": 81
        }
      ]
    },
    {
      "cell_type": "code",
      "source": [
        "previsoes = previsoes > 0.5\n",
        "previsoes"
      ],
      "metadata": {
        "colab": {
          "base_uri": "https://localhost:8080/"
        },
        "id": "lgXRJoThDDXF",
        "outputId": "3b1222b8-ba82-4ff8-f279-5576906cf7a0"
      },
      "execution_count": 82,
      "outputs": [
        {
          "output_type": "execute_result",
          "data": {
            "text/plain": [
              "<tf.Tensor: shape=(54, 1), dtype=bool, numpy=\n",
              "array([[False],\n",
              "       [ True],\n",
              "       [False],\n",
              "       [False],\n",
              "       [False],\n",
              "       [ True],\n",
              "       [False],\n",
              "       [False],\n",
              "       [False],\n",
              "       [False],\n",
              "       [False],\n",
              "       [ True],\n",
              "       [ True],\n",
              "       [False],\n",
              "       [False],\n",
              "       [ True],\n",
              "       [ True],\n",
              "       [ True],\n",
              "       [False],\n",
              "       [False],\n",
              "       [False],\n",
              "       [ True],\n",
              "       [ True],\n",
              "       [False],\n",
              "       [False],\n",
              "       [ True],\n",
              "       [False],\n",
              "       [False],\n",
              "       [ True],\n",
              "       [ True],\n",
              "       [ True],\n",
              "       [ True],\n",
              "       [ True],\n",
              "       [ True],\n",
              "       [ True],\n",
              "       [ True],\n",
              "       [False],\n",
              "       [False],\n",
              "       [False],\n",
              "       [False],\n",
              "       [ True],\n",
              "       [False],\n",
              "       [False],\n",
              "       [False],\n",
              "       [False],\n",
              "       [ True],\n",
              "       [ True],\n",
              "       [False],\n",
              "       [False],\n",
              "       [ True],\n",
              "       [False],\n",
              "       [ True],\n",
              "       [ True],\n",
              "       [ True]])>"
            ]
          },
          "metadata": {},
          "execution_count": 82
        }
      ]
    },
    {
      "cell_type": "code",
      "source": [
        "y_teste"
      ],
      "metadata": {
        "colab": {
          "base_uri": "https://localhost:8080/"
        },
        "id": "QDKg6DuWDinY",
        "outputId": "add7a7e8-c0c6-4377-ad80-6e68fc34c60d"
      },
      "execution_count": 83,
      "outputs": [
        {
          "output_type": "execute_result",
          "data": {
            "text/plain": [
              "array([0, 1, 0, 0, 0, 1, 0, 0, 0, 0, 0, 1, 1, 0, 1, 1, 1, 1, 0, 0, 0, 1,\n",
              "       0, 0, 0, 1, 0, 0, 1, 1, 1, 1, 1, 1, 1, 1, 0, 0, 0, 0, 1, 1, 0, 0,\n",
              "       0, 1, 1, 0, 0, 1, 0, 1, 1, 1])"
            ]
          },
          "metadata": {},
          "execution_count": 83
        }
      ]
    },
    {
      "cell_type": "code",
      "source": [
        "from sklearn.metrics import accuracy_score\n",
        "accuracy_score(y_teste, previsoes)"
      ],
      "metadata": {
        "colab": {
          "base_uri": "https://localhost:8080/"
        },
        "id": "1GY38n23D6eA",
        "outputId": "6ba46115-529e-4fab-fdec-a43bbe4222c8"
      },
      "execution_count": 84,
      "outputs": [
        {
          "output_type": "execute_result",
          "data": {
            "text/plain": [
              "0.9444444444444444"
            ]
          },
          "metadata": {},
          "execution_count": 84
        }
      ]
    },
    {
      "cell_type": "code",
      "source": [
        "from sklearn.metrics import confusion_matrix\n",
        "cm = confusion_matrix(y_teste, previsoes)"
      ],
      "metadata": {
        "id": "X9E3bVKQEJHC"
      },
      "execution_count": 85,
      "outputs": []
    },
    {
      "cell_type": "code",
      "source": [
        "sns.heatmap(cm, annot=True)"
      ],
      "metadata": {
        "colab": {
          "base_uri": "https://localhost:8080/",
          "height": 448
        },
        "id": "U8AXsP_UEQVY",
        "outputId": "09d685bd-b5cf-4105-ef43-6f65d6f8a505"
      },
      "execution_count": 86,
      "outputs": [
        {
          "output_type": "execute_result",
          "data": {
            "text/plain": [
              "<Axes: >"
            ]
          },
          "metadata": {},
          "execution_count": 86
        },
        {
          "output_type": "display_data",
          "data": {
            "text/plain": [
              "<Figure size 640x480 with 2 Axes>"
            ],
            "image/png": "[encoded data removed]"
          },
          "metadata": {}
        }
      ]
    },
    {
      "cell_type": "code",
      "source": [
        "from sklearn.metrics import classification_report\n",
        "print(classification_report(y_teste, previsoes))"
      ],
      "metadata": {
        "colab": {
          "base_uri": "https://localhost:8080/"
        },
        "id": "uOIRvZ_CEa1V",
        "outputId": "c0068f88-ae6b-4eb2-8b92-215e24d16503"
      },
      "execution_count": 87,
      "outputs": [
        {
          "output_type": "stream",
          "name": "stdout",
          "text": [
            "              precision    recall  f1-score   support\n",
            "\n",
            "           0       0.93      0.96      0.95        28\n",
            "           1       0.96      0.92      0.94        26\n",
            "\n",
            "    accuracy                           0.94        54\n",
            "   macro avg       0.95      0.94      0.94        54\n",
            "weighted avg       0.94      0.94      0.94        54\n",
            "\n"
          ]
        }
      ]
    },
    {
      "cell_type": "markdown",
      "source": [],
      "metadata": {
        "id": "VvhCA5iWEhUf"
      }
    },
    {
      "cell_type": "markdown",
      "source": [
        "#Salvar, carregar e classificar uma unica imagem"
      ],
      "metadata": {
        "id": "6WDvTgWuEkzS"
      }
    },
    {
      "cell_type": "markdown",
      "source": [
        "###Salvando rede neural"
      ],
      "metadata": {
        "id": "a7hFqgfPEypP"
      }
    },
    {
      "cell_type": "code",
      "source": [
        "model_json = network2.to_json()\n",
        "with open('network2.json', 'w') as json_file:\n",
        "  json_file.write(model_json)"
      ],
      "metadata": {
        "id": "s8Zw5DKWEv4B"
      },
      "execution_count": 89,
      "outputs": []
    },
    {
      "cell_type": "code",
      "source": [
        "from keras.models import save_model\n",
        "network2_saved = save_model(network2, '/content/weights1.hdf5')"
      ],
      "metadata": {
        "colab": {
          "base_uri": "https://localhost:8080/"
        },
        "outputId": "eab57d75-20b0-45c6-dcbc-1000743bdb5d",
        "id": "vlNaUf7GEv4D"
      },
      "execution_count": 90,
      "outputs": [
        {
          "output_type": "stream",
          "name": "stderr",
          "text": [
            "WARNING:absl:You are saving your model as an HDF5 file via `model.save()` or `keras.saving.save_model(model)`. This file format is considered legacy. We recommend using instead the native Keras format, e.g. `model.save('my_model.keras')` or `keras.saving.save_model(model, 'my_model.keras')`. \n"
          ]
        }
      ]
    },
    {
      "cell_type": "markdown",
      "source": [
        "####Carregando rede neural"
      ],
      "metadata": {
        "id": "uFYbjmy6Ev4E"
      }
    },
    {
      "cell_type": "code",
      "source": [
        "0with open('network2.json') as json_file:\n",
        "  json_saved_model = json_file.read()\n",
        "json_saved_model"
      ],
      "metadata": {
        "colab": {
          "base_uri": "https://localhost:8080/",
          "height": 179
        },
        "outputId": "f8c4e2ec-0589-43f5-b827-3384030934ad",
        "id": "goPPr4uXEv4F"
      },
      "execution_count": 91,
      "outputs": [
        {
          "output_type": "execute_result",
          "data": {
            "text/plain": [
              "'{\"module\": \"keras\", \"class_name\": \"Sequential\", \"config\": {\"name\": \"sequential\", \"trainable\": true, \"dtype\": {\"module\": \"keras\", \"class_name\": \"DTypePolicy\", \"config\": {\"name\": \"float32\"}, \"registered_name\": null}, \"layers\": [{\"module\": \"keras.layers\", \"class_name\": \"InputLayer\", \"config\": {\"batch_shape\": [null, 6], \"dtype\": \"float32\", \"sparse\": false, \"name\": \"input_layer\"}, \"registered_name\": null}, {\"module\": \"keras.layers\", \"class_name\": \"Dense\", \"config\": {\"name\": \"dense\", \"trainable\": true, \"dtype\": {\"module\": \"keras\", \"class_name\": \"DTypePolicy\", \"config\": {\"name\": \"float32\"}, \"registered_name\": null}, \"units\": 4, \"activation\": \"relu\", \"use_bias\": true, \"kernel_initializer\": {\"module\": \"keras.initializers\", \"class_name\": \"GlorotUniform\", \"config\": {\"seed\": null}, \"registered_name\": null}, \"bias_initializer\": {\"module\": \"keras.initializers\", \"class_name\": \"Zeros\", \"config\": {}, \"registered_name\": null}, \"kernel_regularizer\": null, \"bias_regularizer\": null, \"kernel_constraint\": null, \"bias_constraint\": null}, \"registered_name\": null, \"build_config\": {\"input_shape\": [null, 6]}}, {\"module\": \"keras.layers\", \"class_name\": \"Dense\", \"config\": {\"name\": \"dense_1\", \"trainable\": true, \"dtype\": {\"module\": \"keras\", \"class_name\": \"DTypePolicy\", \"config\": {\"name\": \"float32\"}, \"registered_name\": null}, \"units\": 4, \"activation\": \"relu\", \"use_bias\": true, \"kernel_initializer\": {\"module\": \"keras.initializers\", \"class_name\": \"GlorotUniform\", \"config\": {\"seed\": null}, \"registered_name\": null}, \"bias_initializer\": {\"module\": \"keras.initializers\", \"class_name\": \"Zeros\", \"config\": {}, \"registered_name\": null}, \"kernel_regularizer\": null, \"bias_regularizer\": null, \"kernel_constraint\": null, \"bias_constraint\": null}, \"registered_name\": null, \"build_config\": {\"input_shape\": [null, 4]}}, {\"module\": \"keras.layers\", \"class_name\": \"Dense\", \"config\": {\"name\": \"dense_2\", \"trainable\": true, \"dtype\": {\"module\": \"keras\", \"class_name\": \"DTypePolicy\", \"config\": {\"name\": \"float32\"}, \"registered_name\": null}, \"units\": 4, \"activation\": \"relu\", \"use_bias\": true, \"kernel_initializer\": {\"module\": \"keras.initializers\", \"class_name\": \"GlorotUniform\", \"config\": {\"seed\": null}, \"registered_name\": null}, \"bias_initializer\": {\"module\": \"keras.initializers\", \"class_name\": \"Zeros\", \"config\": {}, \"registered_name\": null}, \"kernel_regularizer\": null, \"bias_regularizer\": null, \"kernel_constraint\": null, \"bias_constraint\": null}, \"registered_name\": null, \"build_config\": {\"input_shape\": [null, 4]}}, {\"module\": \"keras.layers\", \"class_name\": \"Dense\", \"config\": {\"name\": \"dense_3\", \"trainable\": true, \"dtype\": {\"module\": \"keras\", \"class_name\": \"DTypePolicy\", \"config\": {\"name\": \"float32\"}, \"registered_name\": null}, \"units\": 1, \"activation\": \"sigmoid\", \"use_bias\": true, \"kernel_initializer\": {\"module\": \"keras.initializers\", \"class_name\": \"GlorotUniform\", \"config\": {\"seed\": null}, \"registered_name\": null}, \"bias_initializer\": {\"module\": \"keras.initializers\", \"class_name\": \"Zeros\", \"config\": {}, \"registered_name\": null}, \"kernel_regularizer\": null, \"bias_regularizer\": null, \"kernel_constraint\": null, \"bias_constraint\": null}, \"registered_name\": null, \"build_config\": {\"input_shape\": [null, 4]}}], \"build_input_shape\": [null, 6]}, \"registered_name\": null, \"build_config\": {\"input_shape\": [null, 6]}, \"compile_config\": {\"optimizer\": {\"module\": \"keras.optimizers\", \"class_name\": \"Adam\", \"config\": {\"name\": \"adam\", \"learning_rate\": 0.0010000000474974513, \"weight_decay\": null, \"clipnorm\": null, \"global_clipnorm\": null, \"clipvalue\": null, \"use_ema\": false, \"ema_momentum\": 0.99, \"ema_overwrite_frequency\": null, \"loss_scale_factor\": null, \"gradient_accumulation_steps\": null, \"beta_1\": 0.9, \"beta_2\": 0.999, \"epsilon\": 1e-07, \"amsgrad\": false}, \"registered_name\": null}, \"loss\": \"binary_crossentropy\", \"loss_weights\": null, \"metrics\": [\"accuracy\"], \"weighted_metrics\": null, \"run_eagerly\": false, \"steps_per_execution\": 1, \"jit_compile\": true}}'"
            ],
            "application/vnd.google.colaboratory.intrinsic+json": {
              "type": "string"
            }
          },
          "metadata": {},
          "execution_count": 91
        }
      ]
    },
    {
      "cell_type": "code",
      "source": [
        "network2_loaded = tf.keras.models.model_from_json(json_saved_model)\n",
        "network2_loaded.load_weights('/content/weights1.hdf5')\n",
        "network2.compile(loss = 'binary_crossentropy', optimizer = 'Adam', metrics = ['accuracy'])"
      ],
      "metadata": {
        "id": "lCVp8-dKEv4G"
      },
      "execution_count": 92,
      "outputs": []
    },
    {
      "cell_type": "code",
      "source": [
        "network2_loaded.summary()"
      ],
      "metadata": {
        "colab": {
          "base_uri": "https://localhost:8080/",
          "height": 285
        },
        "outputId": "ff3cbaec-40db-4d61-8dcc-2a6046d6f028",
        "id": "M1hEufCnEv4G"
      },
      "execution_count": 93,
      "outputs": [
        {
          "output_type": "display_data",
          "data": {
            "text/plain": [
              "\u001b[1mModel: \"sequential\"\u001b[0m\n"
            ],
            "text/html": [
              "<pre style=\"white-space:pre;overflow-x:auto;line-height:normal;font-family:Menlo,'DejaVu Sans Mono',consolas,'Courier New',monospace\"><span style=\"font-weight: bold\">Model: \"sequential\"</span>\n",
              "</pre>\n"
            ]
          },
          "metadata": {}
        },
        {
          "output_type": "display_data",
          "data": {
            "text/plain": [
              "┏━━━━━━━━━━━━━━━━━━━━━━━━━━━━━━━━━━━━━━┳━━━━━━━━━━━━━━━━━━━━━━━━━━━━━┳━━━━━━━━━━━━━━━━━┓\n",
              "┃\u001b[1m \u001b[0m\u001b[1mLayer (type)                        \u001b[0m\u001b[1m \u001b[0m┃\u001b[1m \u001b[0m\u001b[1mOutput Shape               \u001b[0m\u001b[1m \u001b[0m┃\u001b[1m \u001b[0m\u001b[1m        Param #\u001b[0m\u001b[1m \u001b[0m┃\n",
              "┡━━━━━━━━━━━━━━━━━━━━━━━━━━━━━━━━━━━━━━╇━━━━━━━━━━━━━━━━━━━━━━━━━━━━━╇━━━━━━━━━━━━━━━━━┩\n",
              "│ dense (\u001b[38;5;33mDense\u001b[0m)                        │ (\u001b[38;5;45mNone\u001b[0m, \u001b[38;5;34m4\u001b[0m)                   │              \u001b[38;5;34m28\u001b[0m │\n",
              "├──────────────────────────────────────┼─────────────────────────────┼─────────────────┤\n",
              "│ dense_1 (\u001b[38;5;33mDense\u001b[0m)                      │ (\u001b[38;5;45mNone\u001b[0m, \u001b[38;5;34m4\u001b[0m)                   │              \u001b[38;5;34m20\u001b[0m │\n",
              "├──────────────────────────────────────┼─────────────────────────────┼─────────────────┤\n",
              "│ dense_2 (\u001b[38;5;33mDense\u001b[0m)                      │ (\u001b[38;5;45mNone\u001b[0m, \u001b[38;5;34m4\u001b[0m)                   │              \u001b[38;5;34m20\u001b[0m │\n",
              "├──────────────────────────────────────┼─────────────────────────────┼─────────────────┤\n",
              "│ dense_3 (\u001b[38;5;33mDense\u001b[0m)                      │ (\u001b[38;5;45mNone\u001b[0m, \u001b[38;5;34m1\u001b[0m)                   │               \u001b[38;5;34m5\u001b[0m │\n",
              "└──────────────────────────────────────┴─────────────────────────────┴─────────────────┘\n"
            ],
            "text/html": [
              "<pre style=\"white-space:pre;overflow-x:auto;line-height:normal;font-family:Menlo,'DejaVu Sans Mono',consolas,'Courier New',monospace\">┏━━━━━━━━━━━━━━━━━━━━━━━━━━━━━━━━━━━━━━┳━━━━━━━━━━━━━━━━━━━━━━━━━━━━━┳━━━━━━━━━━━━━━━━━┓\n",
              "┃<span style=\"font-weight: bold\"> Layer (type)                         </span>┃<span style=\"font-weight: bold\"> Output Shape                </span>┃<span style=\"font-weight: bold\">         Param # </span>┃\n",
              "┡━━━━━━━━━━━━━━━━━━━━━━━━━━━━━━━━━━━━━━╇━━━━━━━━━━━━━━━━━━━━━━━━━━━━━╇━━━━━━━━━━━━━━━━━┩\n",
              "│ dense (<span style=\"color: #0087ff; text-decoration-color: #0087ff\">Dense</span>)                        │ (<span style=\"color: #00d7ff; text-decoration-color: #00d7ff\">None</span>, <span style=\"color: #00af00; text-decoration-color: #00af00\">4</span>)                   │              <span style=\"color: #00af00; text-decoration-color: #00af00\">28</span> │\n",
              "├──────────────────────────────────────┼─────────────────────────────┼─────────────────┤\n",
              "│ dense_1 (<span style=\"color: #0087ff; text-decoration-color: #0087ff\">Dense</span>)                      │ (<span style=\"color: #00d7ff; text-decoration-color: #00d7ff\">None</span>, <span style=\"color: #00af00; text-decoration-color: #00af00\">4</span>)                   │              <span style=\"color: #00af00; text-decoration-color: #00af00\">20</span> │\n",
              "├──────────────────────────────────────┼─────────────────────────────┼─────────────────┤\n",
              "│ dense_2 (<span style=\"color: #0087ff; text-decoration-color: #0087ff\">Dense</span>)                      │ (<span style=\"color: #00d7ff; text-decoration-color: #00d7ff\">None</span>, <span style=\"color: #00af00; text-decoration-color: #00af00\">4</span>)                   │              <span style=\"color: #00af00; text-decoration-color: #00af00\">20</span> │\n",
              "├──────────────────────────────────────┼─────────────────────────────┼─────────────────┤\n",
              "│ dense_3 (<span style=\"color: #0087ff; text-decoration-color: #0087ff\">Dense</span>)                      │ (<span style=\"color: #00d7ff; text-decoration-color: #00d7ff\">None</span>, <span style=\"color: #00af00; text-decoration-color: #00af00\">1</span>)                   │               <span style=\"color: #00af00; text-decoration-color: #00af00\">5</span> │\n",
              "└──────────────────────────────────────┴─────────────────────────────┴─────────────────┘\n",
              "</pre>\n"
            ]
          },
          "metadata": {}
        },
        {
          "output_type": "display_data",
          "data": {
            "text/plain": [
              "\u001b[1m Total params: \u001b[0m\u001b[38;5;34m221\u001b[0m (888.00 B)\n"
            ],
            "text/html": [
              "<pre style=\"white-space:pre;overflow-x:auto;line-height:normal;font-family:Menlo,'DejaVu Sans Mono',consolas,'Courier New',monospace\"><span style=\"font-weight: bold\"> Total params: </span><span style=\"color: #00af00; text-decoration-color: #00af00\">221</span> (888.00 B)\n",
              "</pre>\n"
            ]
          },
          "metadata": {}
        },
        {
          "output_type": "display_data",
          "data": {
            "text/plain": [
              "\u001b[1m Trainable params: \u001b[0m\u001b[38;5;34m73\u001b[0m (292.00 B)\n"
            ],
            "text/html": [
              "<pre style=\"white-space:pre;overflow-x:auto;line-height:normal;font-family:Menlo,'DejaVu Sans Mono',consolas,'Courier New',monospace\"><span style=\"font-weight: bold\"> Trainable params: </span><span style=\"color: #00af00; text-decoration-color: #00af00\">73</span> (292.00 B)\n",
              "</pre>\n"
            ]
          },
          "metadata": {}
        },
        {
          "output_type": "display_data",
          "data": {
            "text/plain": [
              "\u001b[1m Non-trainable params: \u001b[0m\u001b[38;5;34m0\u001b[0m (0.00 B)\n"
            ],
            "text/html": [
              "<pre style=\"white-space:pre;overflow-x:auto;line-height:normal;font-family:Menlo,'DejaVu Sans Mono',consolas,'Courier New',monospace\"><span style=\"font-weight: bold\"> Non-trainable params: </span><span style=\"color: #00af00; text-decoration-color: #00af00\">0</span> (0.00 B)\n",
              "</pre>\n"
            ]
          },
          "metadata": {}
        },
        {
          "output_type": "display_data",
          "data": {
            "text/plain": [
              "\u001b[1m Optimizer params: \u001b[0m\u001b[38;5;34m148\u001b[0m (596.00 B)\n"
            ],
            "text/html": [
              "<pre style=\"white-space:pre;overflow-x:auto;line-height:normal;font-family:Menlo,'DejaVu Sans Mono',consolas,'Courier New',monospace\"><span style=\"font-weight: bold\"> Optimizer params: </span><span style=\"color: #00af00; text-decoration-color: #00af00\">148</span> (596.00 B)\n",
              "</pre>\n"
            ]
          },
          "metadata": {}
        }
      ]
    },
    {
      "cell_type": "markdown",
      "source": [
        "###Classificação de uma única imagem"
      ],
      "metadata": {
        "id": "5SGQ7BnyEv4H"
      }
    },
    {
      "cell_type": "code",
      "source": [
        "x_teste[0], y_teste[0]"
      ],
      "metadata": {
        "colab": {
          "base_uri": "https://localhost:8080/"
        },
        "outputId": "74793c1c-32cb-4f91-eaba-35910e63a52f",
        "id": "6AshobD3Ev4I"
      },
      "execution_count": 94,
      "outputs": [
        {
          "output_type": "execute_result",
          "data": {
            "text/plain": [
              "(array([3.07645000e-03, 0.00000000e+00, 0.00000000e+00, 6.49515459e+00,\n",
              "        5.59913859e+00, 5.59913859e+00]),\n",
              " 0)"
            ]
          },
          "metadata": {},
          "execution_count": 94
        }
      ]
    },
    {
      "cell_type": "code",
      "source": [
        "imagem_teste = x_teste[0]\n",
        "imagem_teste"
      ],
      "metadata": {
        "colab": {
          "base_uri": "https://localhost:8080/"
        },
        "id": "LweZIGeyEv4I",
        "outputId": "3b536ce2-4c1a-492a-e2c3-82f90df47fea"
      },
      "execution_count": 102,
      "outputs": [
        {
          "output_type": "execute_result",
          "data": {
            "text/plain": [
              "array([3.07645000e-03, 0.00000000e+00, 0.00000000e+00, 6.49515459e+00,\n",
              "       5.59913859e+00, 5.59913859e+00])"
            ]
          },
          "metadata": {},
          "execution_count": 102
        }
      ]
    },
    {
      "cell_type": "code",
      "source": [
        "imagem_teste = imagem_teste.reshape(1,-1)\n",
        "imagem_teste.shape"
      ],
      "metadata": {
        "colab": {
          "base_uri": "https://localhost:8080/"
        },
        "id": "K92nHESkFn1E",
        "outputId": "3b3f9558-dbf7-4a8b-954d-5cc7179b8500"
      },
      "execution_count": 103,
      "outputs": [
        {
          "output_type": "execute_result",
          "data": {
            "text/plain": [
              "(1, 6)"
            ]
          },
          "metadata": {},
          "execution_count": 103
        }
      ]
    },
    {
      "cell_type": "code",
      "source": [
        "network2_loaded.predict(imagem_teste)[0][0]"
      ],
      "metadata": {
        "colab": {
          "base_uri": "https://localhost:8080/"
        },
        "outputId": "238d4998-00c7-4fa2-97a1-aa0807d55be0",
        "id": "6FZjFlRfEv4K"
      },
      "execution_count": 104,
      "outputs": [
        {
          "output_type": "stream",
          "name": "stdout",
          "text": [
            "\u001b[1m1/1\u001b[0m \u001b[32m━━━━━━━━━━━━━━━━━━━━\u001b[0m\u001b[37m\u001b[0m \u001b[1m1s\u001b[0m 529ms/step\n"
          ]
        },
        {
          "output_type": "execute_result",
          "data": {
            "text/plain": [
              "4.0037932e-07"
            ]
          },
          "metadata": {},
          "execution_count": 104
        }
      ]
    },
    {
      "cell_type": "code",
      "source": [
        "if network2_loaded.predict(imagem_teste)[0][0] < 0.5:\n",
        "  print('Bart')\n",
        "else:\n",
        "  print('Homer')"
      ],
      "metadata": {
        "colab": {
          "base_uri": "https://localhost:8080/"
        },
        "outputId": "754e9104-a49c-4396-9638-c9b164dd39b2",
        "id": "g3JaWcmoEv4L"
      },
      "execution_count": 105,
      "outputs": [
        {
          "output_type": "stream",
          "name": "stdout",
          "text": [
            "\u001b[1m1/1\u001b[0m \u001b[32m━━━━━━━━━━━━━━━━━━━━\u001b[0m\u001b[37m\u001b[0m \u001b[1m0s\u001b[0m 25ms/step\n",
            "Bart\n"
          ]
        }
      ]
    }
  ]
}